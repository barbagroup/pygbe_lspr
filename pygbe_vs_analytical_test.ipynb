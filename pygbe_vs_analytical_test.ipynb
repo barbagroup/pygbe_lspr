{
 "cells": [
  {
   "cell_type": "code",
   "execution_count": 1,
   "metadata": {
    "collapsed": true
   },
   "outputs": [],
   "source": [
    "import numpy"
   ]
  },
  {
   "cell_type": "code",
   "execution_count": 2,
   "metadata": {
    "collapsed": true
   },
   "outputs": [],
   "source": [
    "from data_analysis_helper import nm_from_ev, linear_interp, wave_filter_interp"
   ]
  },
  {
   "cell_type": "code",
   "execution_count": 3,
   "metadata": {
    "collapsed": true
   },
   "outputs": [],
   "source": [
    "from cext_wavelength_scanning import create_diel_list, Cext_wave_scan, Cext_analytical"
   ]
  },
  {
   "cell_type": "code",
   "execution_count": 4,
   "metadata": {
    "collapsed": true
   },
   "outputs": [],
   "source": [
    "#import data\n",
    "ev_s , n_s , k_s = numpy.loadtxt('gold_silver_water_raw-data/silver_JC72.txt', unpack=True)\n",
    "lambda_s = nm_from_ev(ev_s)"
   ]
  },
  {
   "cell_type": "code",
   "execution_count": 5,
   "metadata": {
    "collapsed": true
   },
   "outputs": [],
   "source": [
    "numpy.savetxt('gold_silver_water_raw-data/silver_JC72_nm.txt', list(zip(lambda_s, n_s, k_s)), fmt='%.8f %.3e %.3e', header='lambda [nm], refrac_index_real, refrac_index_imag ')"
   ]
  },
  {
   "cell_type": "code",
   "execution_count": 6,
   "metadata": {
    "collapsed": false
   },
   "outputs": [],
   "source": [
    "lambda_w , n_w , k_w = numpy.loadtxt('gold_silver_water_raw-data/water_HQ72.txt', unpack=True)"
   ]
  },
  {
   "cell_type": "code",
   "execution_count": 7,
   "metadata": {
    "collapsed": true
   },
   "outputs": [],
   "source": [
    "#linear interpolation\n",
    "water_real_linear , water_imag_linear = linear_interp(lambda_w, n_w, k_w)"
   ]
  },
  {
   "cell_type": "code",
   "execution_count": 12,
   "metadata": {
    "collapsed": true
   },
   "outputs": [],
   "source": [
    "lambda_ws, idx_min, idx_max = wave_filter_interp(lambda_s, lambda_w)"
   ]
  },
  {
   "cell_type": "code",
   "execution_count": 13,
   "metadata": {
    "collapsed": true
   },
   "outputs": [],
   "source": [
    "n_s = n_s[idx_min:idx_max]\n",
    "k_s = k_s[idx_min:idx_max]"
   ]
  },
  {
   "cell_type": "code",
   "execution_count": 14,
   "metadata": {
    "collapsed": true
   },
   "outputs": [],
   "source": [
    "n_w = water_real_linear(lambda_ws)\n",
    "k_w = water_imag_linear(lambda_ws)"
   ]
  },
  {
   "cell_type": "code",
   "execution_count": 15,
   "metadata": {
    "collapsed": false
   },
   "outputs": [],
   "source": [
    "numpy.savetxt('data/lambda_refrac_water_silv.txt', list(zip(lambda_ws, n_w, k_w, n_s, k_s)), fmt='%.8f %.8e %.8e %.8e %.8e', header='lambda, refrac_index_real, refrac_index_imag ')"
   ]
  },
  {
   "cell_type": "code",
   "execution_count": 16,
   "metadata": {
    "collapsed": true
   },
   "outputs": [],
   "source": [
    "diel_wat, diel_sil, diel_list = create_diel_list(n_w, k_w, n_s, k_s)"
   ]
  },
  {
   "cell_type": "code",
   "execution_count": 17,
   "metadata": {
    "collapsed": true
   },
   "outputs": [],
   "source": [
    "import pygbe\n",
    "from pygbe.util.read_data import read_fields\n",
    "from pygbe.main import main"
   ]
  },
  {
   "cell_type": "code",
   "execution_count": 18,
   "metadata": {
    "collapsed": true
   },
   "outputs": [],
   "source": [
    "field_test= read_fields('sphere_complex.config')\n"
   ]
  },
  {
   "cell_type": "code",
   "execution_count": 19,
   "metadata": {
    "collapsed": false
   },
   "outputs": [
    {
     "name": "stdout",
     "output_type": "stream",
     "text": [
      "Run started on:\n",
      "\tDate: 2017/2/16\n",
      "\tTime: 12:28:37\n",
      "\tPyGBe version: 0.2.1+249.gb99c0c3\n",
      "Config file: /home/ncclementi/Documents/git/pygbe_dev/pygbe/examples/lspr/sphere_complex.config\n",
      "Parameter file: /home/ncclementi/Documents/git/pygbe_dev/pygbe/examples/lspr/sphere_complex.param\n",
      "Geometry folder: /home/ncclementi/Documents/git/pygbe_dev/pygbe/examples/lspr/geometry\n",
      "Running in: /home/ncclementi/Documents/git/pygbe_dev/pygbe/examples/lspr\n",
      "\n",
      "Reading surface 0 from file geometry/sphere2K_R10\n",
      "Time load mesh: 0.14943790435791016\n",
      "Removed areas=0: 0\n",
      "\n",
      "Total elements : 2048\n",
      "Total equations: 4096\n",
      "----------------------------\n",
      "\n",
      "1 surfaces:\n",
      "\n",
      "Surface 0:\n",
      "\t2048 elements\n",
      "\tSurface type       : dielectric_interface\n",
      "\tCells              : 9\n",
      "\tTwigs              : 8\n",
      "\tLevels             : 2\n",
      "\tC0 size            : 9.978611958305848\n",
      "\tC0 box center      : 0.0, 0.0, 0.0\n",
      "\tTwig cell size     : 4.989305979152924\n",
      "\tRbox/theta         : 9.978611958305848\n",
      "\tAnalytic distance  : 2.197623822113438\n",
      "\tElem. per sq Ang   : 1.6349357033949221\n",
      "\tMax, min, avg elem.: 1.0071412642037227, 0.48155623896004623, 0.6116448481267571\n",
      "\tTotal area         : 1252.6486489635986\n",
      "------------------------------\n",
      "\n",
      "2 regions:\n",
      "\n",
      "Region 0:\n",
      "\tLaplace or Yukawa: 1\n",
      "\tkappa            : 1e-12\n",
      "\tdielectric const : (1.9404697278852594+2.8434962294439333e-07j)\n",
      "\tNumber of charges: 0\n",
      "\tParent surface   : []\n",
      "\tChild surfaces   : [0]\n",
      "Region 1:\n",
      "\tLaplace or Yukawa: 1\n",
      "\tkappa            : 1e-12\n",
      "\tdielectric const : (-0.3571160000000002+2.9808j)\n",
      "\tNumber of charges: 0\n",
      "\tParent surface   : [0]\n",
      "\tChild surfaces   : []\n",
      "------------------------------\n",
      "\n",
      "Parameters:\n",
      "\tData type               : <class 'numpy.float64'>\n",
      "\tUse GPU                 : 1\n",
      "\tP                       : 15\n",
      "\tthreshold               : 0.50\n",
      "\ttheta                   : 0.50\n",
      "\tNCRIT                   : 500\n",
      "\tCUDA block size         : 128\n",
      "\tGauss points per element: 3\n",
      "\tGauss points near singlr: 37\n",
      "\t1D Gauss points per side: 9\n",
      "\tGMRES tolerance         : 1e-06\n",
      "\tGMRES max iterations    : 1000\n",
      "\tGMRES restart iteration : 100\n",
      "----------------------------\n",
      "\n",
      "Generate interaction list\n",
      "Transfer data to GPU\n",
      "Generate RHS\n",
      "List time          : 0.0006401538848876953s\n",
      "Data transfer time : 0.005034685134887695s\n",
      "RHS generation time: 0.13721680641174316s\n",
      "------------------------------\n",
      "Total setup time   : 0.9757649898529053s\n",
      "Solve\n",
      "Iteration: 1, relative residual: 0.3656762982386517\n",
      "Iteration: 2, relative residual: 0.14208281155330052\n",
      "Iteration: 3, relative residual: 0.026783719100448848\n",
      "Iteration: 4, relative residual: 0.004622189529471755\n",
      "Iteration: 5, relative residual: 0.00111709445036931\n",
      "Iteration: 6, relative residual: 0.0005376161258232017\n",
      "Iteration: 7, relative residual: 0.0002912557760633442\n",
      "Iteration: 8, relative residual: 0.00015408336329433855\n",
      "Iteration: 9, relative residual: 7.238466603848108e-05\n",
      "Iteration: 10, relative residual: 6.740122606481054e-05\n",
      "Iteration: 11, relative residual: 2.689406100156518e-05\n",
      "Iteration: 12, relative residual: 1.0467644279268467e-05\n",
      "Iteration: 13, relative residual: 3.87329787410769e-06\n",
      "Iteration: 14, relative residual: 1.6809782040039048e-06\n",
      "Iteration: 15, relative residual: 1.0152460514754526e-06\n",
      "GMRES solve\n",
      "Converged after 16 iterations to a residual of 6.084356556316539e-07\n",
      "Time weight vector: 0.1474911043643951\n",
      "Time sort         : 0.011764799965545535\n",
      "Time data transfer: 0.07066332777589564\n",
      "Time P2M          : 7.820849323272706\n",
      "Time M2M          : 0.6937708806991577\n",
      "Time M2P          : 0.0\n",
      "Time P2P          : 4.136481899261476\n",
      "\tTime analy: 0.0\n",
      "Solve time        : 12.802760124206543s\n",
      "Calculate extinction cross section\n",
      "Time Cext: 0.00029015541076660156s\n",
      "\n",
      "Cext:\n",
      "Surface 0: 437.8065956354535 nm^2\n",
      "Run started on:\n",
      "\tDate: 2017/2/16\n",
      "\tTime: 12:28:51\n",
      "\tPyGBe version: 0.2.1+249.gb99c0c3\n",
      "Config file: /home/ncclementi/Documents/git/pygbe_dev/pygbe/examples/lspr/sphere_complex.config\n",
      "Parameter file: /home/ncclementi/Documents/git/pygbe_dev/pygbe/examples/lspr/sphere_complex.param\n",
      "Geometry folder: /home/ncclementi/Documents/git/pygbe_dev/pygbe/examples/lspr/geometry\n",
      "Running in: /home/ncclementi/Documents/git/pygbe_dev/pygbe/examples/lspr\n",
      "\n",
      "Reading surface 0 from file geometry/sphere2K_R10\n",
      "Time load mesh: 0.2388911247253418\n",
      "Removed areas=0: 0\n",
      "\n",
      "Total elements : 2048\n",
      "Total equations: 4096\n",
      "----------------------------\n",
      "\n",
      "1 surfaces:\n",
      "\n",
      "Surface 0:\n",
      "\t2048 elements\n",
      "\tSurface type       : dielectric_interface\n",
      "\tCells              : 9\n",
      "\tTwigs              : 8\n",
      "\tLevels             : 2\n",
      "\tC0 size            : 9.978611958305848\n",
      "\tC0 box center      : 0.0, 0.0, 0.0\n",
      "\tTwig cell size     : 4.989305979152924\n",
      "\tRbox/theta         : 9.978611958305848\n",
      "\tAnalytic distance  : 2.197623822113438\n",
      "\tElem. per sq Ang   : 1.6349357033949221\n",
      "\tMax, min, avg elem.: 1.0071412642037227, 0.48155623896004623, 0.6116448481267571\n",
      "\tTotal area         : 1252.6486489635986\n",
      "------------------------------\n",
      "\n",
      "2 regions:\n",
      "\n",
      "Region 0:\n",
      "\tLaplace or Yukawa: 1\n",
      "\tkappa            : 1e-12\n",
      "\tdielectric const : (1.930029679897489+2.559321875301639e-07j)\n",
      "\tNumber of charges: 0\n",
      "\tParent surface   : []\n",
      "\tChild surfaces   : [0]\n",
      "Region 1:\n",
      "\tLaplace or Yukawa: 1\n",
      "\tkappa            : 1e-12\n",
      "\tdielectric const : (-0.32894400000000035+3.09632j)\n",
      "\tNumber of charges: 0\n",
      "\tParent surface   : [0]\n",
      "\tChild surfaces   : []\n",
      "------------------------------\n",
      "\n",
      "Parameters:\n",
      "\tData type               : <class 'numpy.float64'>\n",
      "\tUse GPU                 : 1\n",
      "\tP                       : 15\n",
      "\tthreshold               : 0.50\n",
      "\ttheta                   : 0.50\n",
      "\tNCRIT                   : 500\n",
      "\tCUDA block size         : 128\n",
      "\tGauss points per element: 3\n",
      "\tGauss points near singlr: 37\n",
      "\t1D Gauss points per side: 9\n",
      "\tGMRES tolerance         : 1e-06\n",
      "\tGMRES max iterations    : 1000\n",
      "\tGMRES restart iteration : 100\n",
      "----------------------------\n",
      "\n",
      "Generate interaction list\n",
      "Transfer data to GPU\n",
      "Generate RHS\n",
      "List time          : 0.0005192756652832031s\n",
      "Data transfer time : 0.0040433406829833984s\n",
      "RHS generation time: 0.15067076683044434s\n",
      "------------------------------\n",
      "Total setup time   : 0.9731378555297852s\n",
      "Solve\n",
      "Iteration: 1, relative residual: 0.36592003081100644\n",
      "Iteration: 2, relative residual: 0.1438359562803316\n",
      "Iteration: 3, relative residual: 0.02718104201009635\n",
      "Iteration: 4, relative residual: 0.004691420716017071\n",
      "Iteration: 5, relative residual: 0.0011280895452025696\n",
      "Iteration: 6, relative residual: 0.0005375065451429525\n",
      "Iteration: 7, relative residual: 0.0002877224260257425\n",
      "Iteration: 8, relative residual: 0.0001529528637277179\n",
      "Iteration: 9, relative residual: 7.226933331982328e-05\n",
      "Iteration: 10, relative residual: 6.453280595330142e-05\n",
      "Iteration: 11, relative residual: 2.7061986299394547e-05\n",
      "Iteration: 12, relative residual: 1.0504708719919109e-05\n",
      "Iteration: 13, relative residual: 3.8512532112801634e-06\n",
      "Iteration: 14, relative residual: 1.686815242588656e-06\n",
      "Iteration: 15, relative residual: 1.450033705118385e-06\n",
      "GMRES solve\n",
      "Converged after 16 iterations to a residual of 6.083031118240209e-07\n",
      "Time weight vector: 0.1364767043590546\n",
      "Time sort         : 0.011333855969831346\n",
      "Time data transfer: 0.06640406394749877\n",
      "Time P2M          : 7.617862930297848\n",
      "Time M2M          : 0.6508034563064576\n",
      "Time M2P          : 0.0\n",
      "Time P2P          : 4.1356047706604\n",
      "\tTime analy: 0.0\n",
      "Solve time        : 12.521619319915771s\n",
      "Calculate extinction cross section\n",
      "Time Cext: 0.00020813941955566406s\n",
      "\n",
      "Cext:\n",
      "Surface 0: 427.03471610006613 nm^2\n"
     ]
    }
   ],
   "source": [
    "w, C = Cext_wave_scan(lambda_ws[0:2], diel_list[0:2], field_test, '../pygbe_dev/pygbe/examples/lspr')"
   ]
  },
  {
   "cell_type": "code",
   "execution_count": 20,
   "metadata": {
    "collapsed": false
   },
   "outputs": [
    {
     "data": {
      "text/plain": [
       "array([ 203.25278261,  207.33143377])"
      ]
     },
     "execution_count": 20,
     "metadata": {},
     "output_type": "execute_result"
    }
   ],
   "source": [
    "w"
   ]
  },
  {
   "cell_type": "code",
   "execution_count": 21,
   "metadata": {
    "collapsed": false
   },
   "outputs": [
    {
     "data": {
      "text/plain": [
       "[437.8065956354535, 427.03471610006613]"
      ]
     },
     "execution_count": 21,
     "metadata": {},
     "output_type": "execute_result"
    }
   ],
   "source": [
    "C"
   ]
  },
  {
   "cell_type": "code",
   "execution_count": 22,
   "metadata": {
    "collapsed": true
   },
   "outputs": [],
   "source": [
    "c_an = Cext_analytical(10, w, diel_wat[0:2], diel_sil[0:2])"
   ]
  },
  {
   "cell_type": "code",
   "execution_count": 23,
   "metadata": {
    "collapsed": false
   },
   "outputs": [
    {
     "data": {
      "text/plain": [
       "array([ 440.79533751,  430.04250058])"
      ]
     },
     "execution_count": 23,
     "metadata": {},
     "output_type": "execute_result"
    }
   ],
   "source": [
    "c_an"
   ]
  },
  {
   "cell_type": "code",
   "execution_count": 24,
   "metadata": {
    "collapsed": false
   },
   "outputs": [],
   "source": [
    "error = abs(C-c_an)/c_an "
   ]
  },
  {
   "cell_type": "code",
   "execution_count": 25,
   "metadata": {
    "collapsed": false
   },
   "outputs": [
    {
     "data": {
      "text/plain": [
       "array([ 0.00678034,  0.00699416])"
      ]
     },
     "execution_count": 25,
     "metadata": {},
     "output_type": "execute_result"
    }
   ],
   "source": [
    "error"
   ]
  },
  {
   "cell_type": "code",
   "execution_count": 26,
   "metadata": {
    "collapsed": false
   },
   "outputs": [],
   "source": [
    "from matplotlib import pyplot"
   ]
  },
  {
   "cell_type": "code",
   "execution_count": 27,
   "metadata": {
    "collapsed": true
   },
   "outputs": [],
   "source": [
    "%matplotlib inline"
   ]
  },
  {
   "cell_type": "code",
   "execution_count": 28,
   "metadata": {
    "collapsed": false
   },
   "outputs": [
    {
     "data": {
      "text/plain": [
       "<matplotlib.collections.PathCollection at 0x7f1d9fa2f550>"
      ]
     },
     "execution_count": 28,
     "metadata": {},
     "output_type": "execute_result"
    },
    {
     "data": {
      "image/png": "[encoded data removed]",
      "text/plain": [
       "<matplotlib.figure.Figure at 0x7f1d9f9fd8d0>"
      ]
     },
     "metadata": {},
     "output_type": "display_data"
    }
   ],
   "source": [
    "pyplot.scatter(w,C, color='b')\n",
    "pyplot.scatter(w,c_an, color='r')"
   ]
  },
  {
   "cell_type": "code",
   "execution_count": null,
   "metadata": {
    "collapsed": true
   },
   "outputs": [],
   "source": []
  }
 ],
 "metadata": {
  "kernelspec": {
   "display_name": "Python 3",
   "language": "python",
   "name": "python3"
  },
  "language_info": {
   "codemirror_mode": {
    "name": "ipython",
    "version": 3
   },
   "file_extension": ".py",
   "mimetype": "text/x-python",
   "name": "python",
   "nbconvert_exporter": "python",
   "pygments_lexer": "ipython3",
   "version": "3.5.2"
  }
 },
 "nbformat": 4,
 "nbformat_minor": 2
}
