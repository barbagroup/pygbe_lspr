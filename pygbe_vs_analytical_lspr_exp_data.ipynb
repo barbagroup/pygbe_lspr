{
 "cells": [
  {
   "cell_type": "markdown",
   "metadata": {},
   "source": [
    "## LSPR: Pygbe vs analytical (experimental data)\n",
    "\n",
    "We run pygbe and the analytical solution for the Cext calculation for the cases we have experimental data. We compare the error between these runs and analyze the results. \n",
    "\n",
    "We run both silver and gold, using the data from [Johnson and Christy, 1972](https://journals.aps.org/prb/pdf/10.1103/PhysRevB.6.4370). We run meshes from 2K elements of a nanoparticle of radius 10nm."
   ]
  },
  {
   "cell_type": "markdown",
   "metadata": {},
   "source": [
    "### Silver\n",
    "\n"
   ]
  },
  {
   "cell_type": "code",
   "execution_count": 2,
   "metadata": {
    "collapsed": true
   },
   "outputs": [],
   "source": [
    "import numpy"
   ]
  },
  {
   "cell_type": "code",
   "execution_count": 3,
   "metadata": {
    "collapsed": false
   },
   "outputs": [],
   "source": [
    "#import data\n",
    "lambda_s , n_s , k_s = numpy.loadtxt('gold_silver_water_raw-data/silver_JC72.txt', unpack=True)\n",
    "lambda_s = lambda_s*1e3 #To convert to nm"
   ]
  },
  {
   "cell_type": "markdown",
   "metadata": {
    "collapsed": true
   },
   "source": [
    "### Water interpolation data for lambda_silver\n",
    "\n",
    "We need to obtain the refractive index for the same wavelengths we have data for the silver case. We will save the data on a file for futere purposes. "
   ]
  },
  {
   "cell_type": "code",
   "execution_count": 8,
   "metadata": {
    "collapsed": true
   },
   "outputs": [],
   "source": [
    "from data_analysis_helper import linear_interp"
   ]
  },
  {
   "cell_type": "code",
   "execution_count": 9,
   "metadata": {
    "collapsed": true
   },
   "outputs": [],
   "source": [
    "lambda_w , n_w , k_w = numpy.loadtxt('gold_silver_water_raw-data/water_HQ72.txt', unpack=True)\n",
    "lambda_w = lambda_w*1e3 #To convert to nm"
   ]
  },
  {
   "cell_type": "code",
   "execution_count": 10,
   "metadata": {
    "collapsed": true
   },
   "outputs": [],
   "source": [
    "#linear interpolation\n",
    "water_real_linear , water_imag_linear = linear_interp(lambda_w, n_w, k_w)"
   ]
  },
  {
   "cell_type": "code",
   "execution_count": 17,
   "metadata": {
    "collapsed": false
   },
   "outputs": [
    {
     "name": "stdout",
     "output_type": "stream",
     "text": [
      "187.9\n",
      "200.0\n",
      "1937.0\n",
      "2000.0\n"
     ]
    }
   ],
   "source": [
    "print(min(lambda_s))\n",
    "print(min(lambda_w))\n",
    "print(max(lambda_s))\n",
    "print(max(lambda_w))"
   ]
  },
  {
   "cell_type": "markdown",
   "metadata": {},
   "source": [
    "Our water data starts at a wavelength of 200 nm, therefore we can interpolate values smaller than that. So we will strip out the values for the silver wavelengths that are not in the water interpolation range. "
   ]
  },
  {
   "cell_type": "code",
   "execution_count": 16,
   "metadata": {
    "collapsed": false
   },
   "outputs": [
    {
     "data": {
      "text/plain": [
       "(array([0, 1, 2, 3]),)"
      ]
     },
     "execution_count": 16,
     "metadata": {},
     "output_type": "execute_result"
    }
   ],
   "source": [
    "numpy.where(lambda_s<200.0)"
   ]
  },
  {
   "cell_type": "code",
   "execution_count": 30,
   "metadata": {
    "collapsed": true
   },
   "outputs": [],
   "source": [
    "lambda_ws = lambda_s[4:]"
   ]
  },
  {
   "cell_type": "code",
   "execution_count": 42,
   "metadata": {
    "collapsed": true
   },
   "outputs": [],
   "source": [
    "n_s = n_s[4:]\n",
    "k_s = k_s[4:]"
   ]
  },
  {
   "cell_type": "code",
   "execution_count": 43,
   "metadata": {
    "collapsed": false
   },
   "outputs": [],
   "source": [
    "#lambda_sw"
   ]
  },
  {
   "cell_type": "code",
   "execution_count": 44,
   "metadata": {
    "collapsed": false
   },
   "outputs": [],
   "source": [
    "n_ws = water_real_linear(lambda_sw)\n",
    "k_ws = water_imag_linear(lambda_sw)"
   ]
  },
  {
   "cell_type": "code",
   "execution_count": 45,
   "metadata": {
    "collapsed": false
   },
   "outputs": [],
   "source": [
    "numpy.savetxt('interp_data/water_silv_nm.txt', list(zip(lambda_sw, n_ws, k_ws)), fmt='%1.3f')"
   ]
  },
  {
   "cell_type": "code",
   "execution_count": 46,
   "metadata": {
    "collapsed": true
   },
   "outputs": [],
   "source": [
    "refrac_silver = n_s + 1j * k_s\n",
    "refrac_water  = n_ws + 1j * k_ws"
   ]
  },
  {
   "cell_type": "code",
   "execution_count": 47,
   "metadata": {
    "collapsed": false
   },
   "outputs": [],
   "source": [
    "diel_silver = refrac_silver * refrac_silver \n",
    "diel_water  = refrac_water * refrac_water"
   ]
  },
  {
   "cell_type": "code",
   "execution_count": 50,
   "metadata": {
    "collapsed": false
   },
   "outputs": [
    {
     "name": "stdout",
     "output_type": "stream",
     "text": [
      "381.5 (-3.471996+0.1864j)\n",
      "381.5 (1.7968866304+8.240198656e-09j)\n"
     ]
    }
   ],
   "source": [
    "print(lambda_ws[23], diel_silver[23] )\n",
    "print(lambda_ws[23], diel_water[23] )"
   ]
  },
  {
   "cell_type": "code",
   "execution_count": null,
   "metadata": {
    "collapsed": true
   },
   "outputs": [],
   "source": []
  }
 ],
 "metadata": {
  "kernelspec": {
   "display_name": "Python 3",
   "language": "python",
   "name": "python3"
  },
  "language_info": {
   "codemirror_mode": {
    "name": "ipython",
    "version": 3
   },
   "file_extension": ".py",
   "mimetype": "text/x-python",
   "name": "python",
   "nbconvert_exporter": "python",
   "pygments_lexer": "ipython3",
   "version": "3.5.2"
  }
 },
 "nbformat": 4,
 "nbformat_minor": 0
}
