{
 "cells": [
  {
   "cell_type": "markdown",
   "metadata": {},
   "source": [
    "## LSPR: Pygbe vs analytical (experimental data)\n",
    "\n",
    "We run pygbe and the analytical solution for the Cext calculation for the cases we have experimental data. We compare the error between these runs and analyze the results. \n",
    "\n",
    "We run both silver and gold, using the data from [Johnson and Christy, 1972](https://journals.aps.org/prb/pdf/10.1103/PhysRevB.6.4370). We run meshes from 2K elements of a nanoparticle of radius 10nm."
   ]
  },
  {
   "cell_type": "markdown",
   "metadata": {},
   "source": [
    "### Silver\n",
    "\n"
   ]
  },
  {
   "cell_type": "code",
   "execution_count": 1,
   "metadata": {
    "collapsed": true
   },
   "outputs": [],
   "source": [
    "import numpy"
   ]
  },
  {
   "cell_type": "code",
   "execution_count": 2,
   "metadata": {
    "collapsed": false
   },
   "outputs": [],
   "source": [
    "#import data\n",
    "lambda_s , n_s , k_s = numpy.loadtxt('gold_silver_water_raw-data/silver_JC72.txt', unpack=True)\n",
    "lambda_s = lambda_s*1e3 #To convert to nm"
   ]
  },
  {
   "cell_type": "markdown",
   "metadata": {
    "collapsed": true
   },
   "source": [
    "### Water interpolation data for lambda_silver\n",
    "\n",
    "We need to obtain the refractive index for the same wavelengths we have data for the silver case. We will save the data on a file for futere purposes. "
   ]
  },
  {
   "cell_type": "code",
   "execution_count": 3,
   "metadata": {
    "collapsed": true
   },
   "outputs": [],
   "source": [
    "from data_analysis_helper import linear_interp"
   ]
  },
  {
   "cell_type": "code",
   "execution_count": 4,
   "metadata": {
    "collapsed": true
   },
   "outputs": [],
   "source": [
    "lambda_w , n_w , k_w = numpy.loadtxt('gold_silver_water_raw-data/water_HQ72.txt', unpack=True)\n",
    "lambda_w = lambda_w*1e3 #To convert to nm"
   ]
  },
  {
   "cell_type": "code",
   "execution_count": 5,
   "metadata": {
    "collapsed": true
   },
   "outputs": [],
   "source": [
    "#linear interpolation\n",
    "water_real_linear , water_imag_linear = linear_interp(lambda_w, n_w, k_w)"
   ]
  },
  {
   "cell_type": "code",
   "execution_count": 6,
   "metadata": {
    "collapsed": false
   },
   "outputs": [
    {
     "name": "stdout",
     "output_type": "stream",
     "text": [
      "187.9\n",
      "200.0\n",
      "1937.0\n",
      "2000.0\n"
     ]
    }
   ],
   "source": [
    "print(min(lambda_s))\n",
    "print(min(lambda_w))\n",
    "print(max(lambda_s))\n",
    "print(max(lambda_w))"
   ]
  },
  {
   "cell_type": "markdown",
   "metadata": {},
   "source": [
    "Our water data starts at a wavelength of 200 nm, therefore we can interpolate values smaller than that. So we will strip out the values for the silver wavelengths that are not in the water interpolation range. "
   ]
  },
  {
   "cell_type": "code",
   "execution_count": 7,
   "metadata": {
    "collapsed": false
   },
   "outputs": [
    {
     "data": {
      "text/plain": [
       "(array([0, 1, 2, 3]),)"
      ]
     },
     "execution_count": 7,
     "metadata": {},
     "output_type": "execute_result"
    }
   ],
   "source": [
    "numpy.where(lambda_s<200.0)"
   ]
  },
  {
   "cell_type": "code",
   "execution_count": 8,
   "metadata": {
    "collapsed": true
   },
   "outputs": [],
   "source": [
    "lambda_ws = lambda_s[4:]"
   ]
  },
  {
   "cell_type": "code",
   "execution_count": 9,
   "metadata": {
    "collapsed": true
   },
   "outputs": [],
   "source": [
    "n_s = n_s[4:]\n",
    "k_s = k_s[4:]"
   ]
  },
  {
   "cell_type": "code",
   "execution_count": 10,
   "metadata": {
    "collapsed": false
   },
   "outputs": [],
   "source": [
    "#lambda_sw"
   ]
  },
  {
   "cell_type": "code",
   "execution_count": 11,
   "metadata": {
    "collapsed": false
   },
   "outputs": [],
   "source": [
    "n_ws = water_real_linear(lambda_ws)\n",
    "k_ws = water_imag_linear(lambda_ws)"
   ]
  },
  {
   "cell_type": "code",
   "execution_count": 12,
   "metadata": {
    "collapsed": false
   },
   "outputs": [],
   "source": [
    "#numpy.savetxt('interp_data/water_refrac_nm.txt', list(zip(lambda_ws, n_ws, k_ws)))"
   ]
  },
  {
   "cell_type": "code",
   "execution_count": 13,
   "metadata": {
    "collapsed": true
   },
   "outputs": [],
   "source": [
    "refrac_silver = n_s + 1j * k_s\n",
    "refrac_water  = n_ws + 1j * k_ws"
   ]
  },
  {
   "cell_type": "code",
   "execution_count": 14,
   "metadata": {
    "collapsed": false
   },
   "outputs": [
    {
     "data": {
      "text/plain": [
       "array([ 1.15 +1.296j,  1.18 +1.312j,  1.20 +1.325j,  1.22 +1.336j,\n",
       "        1.25 +1.342j,  1.26 +1.344j,  1.28 +1.357j,  1.28 +1.367j,\n",
       "        1.30 +1.378j,  1.31 +1.389j,  1.33 +1.393j,  1.35 +1.387j,\n",
       "        1.38 +1.372j,  1.41 +1.331j,  1.41 +1.264j,  1.39 +1.161j,\n",
       "        1.34 +0.964j,  1.13 +0.616j,  0.81 +0.392j,  0.17 +0.829j,\n",
       "        0.14 +1.142j,  0.10 +1.419j,  0.07 +1.657j,  0.05 +1.864j,\n",
       "        0.05 +2.07j ,  0.05 +2.275j,  0.04 +2.462j,  0.04 +2.657j,\n",
       "        0.05 +2.869j,  0.05 +3.093j,  0.05 +3.324j,  0.06 +3.586j,\n",
       "        0.05 +3.858j,  0.06 +4.152j,  0.05 +4.483j,  0.04 +4.838j,\n",
       "        0.03 +5.242j,  0.04 +5.727j,  0.04 +6.312j,  0.04 +6.992j,\n",
       "        0.04 +7.795j,  0.09 +8.828j,  0.13+10.1j  ,  0.15+11.85j ,\n",
       "        0.24+14.08j ])"
      ]
     },
     "execution_count": 14,
     "metadata": {},
     "output_type": "execute_result"
    }
   ],
   "source": [
    "refrac_silver"
   ]
  },
  {
   "cell_type": "code",
   "execution_count": 15,
   "metadata": {
    "collapsed": false
   },
   "outputs": [],
   "source": [
    "diel_silver = refrac_silver * refrac_silver \n",
    "diel_water  = refrac_water * refrac_water"
   ]
  },
  {
   "cell_type": "code",
   "execution_count": 16,
   "metadata": {
    "collapsed": false
   },
   "outputs": [],
   "source": [
    "l_diel_silver = [str(d) for d in diel_silver]\n",
    "l_diel_water = [str(d) for d in diel_water]"
   ]
  },
  {
   "cell_type": "code",
   "execution_count": 17,
   "metadata": {
    "collapsed": true
   },
   "outputs": [],
   "source": [
    "for j in range(len(l_diel_silver)):\n",
    "    l_diel_silver[j] = l_diel_silver[j][1:-1]"
   ]
  },
  {
   "cell_type": "code",
   "execution_count": 18,
   "metadata": {
    "collapsed": true
   },
   "outputs": [],
   "source": [
    "for j in range(len(l_diel_water)):\n",
    "    l_diel_water[j] = l_diel_water[j][1:-1]"
   ]
  },
  {
   "cell_type": "code",
   "execution_count": 19,
   "metadata": {
    "collapsed": false
   },
   "outputs": [],
   "source": [
    "#diel_silv = list(diel_silver)\n",
    "#diel_wat = list(diel_water)\n",
    "lamb_ws = list(lambda_ws)"
   ]
  },
  {
   "cell_type": "code",
   "execution_count": 20,
   "metadata": {
    "collapsed": true
   },
   "outputs": [],
   "source": [
    "lst_d = list(zip(l_diel_water, l_diel_silver)) "
   ]
  },
  {
   "cell_type": "code",
   "execution_count": 21,
   "metadata": {
    "collapsed": false
   },
   "outputs": [],
   "source": [
    "for j in range(len(lst_d)):\n",
    "    lst_d[j] = list(lst_d[j])"
   ]
  },
  {
   "cell_type": "code",
   "execution_count": 22,
   "metadata": {
    "collapsed": false
   },
   "outputs": [],
   "source": [
    "#lst_d"
   ]
  },
  {
   "cell_type": "code",
   "execution_count": 23,
   "metadata": {
    "collapsed": true
   },
   "outputs": [],
   "source": [
    "wave_diel_sil_wat = list(zip(lamb_ws, lst_d))"
   ]
  },
  {
   "cell_type": "code",
   "execution_count": 24,
   "metadata": {
    "collapsed": false
   },
   "outputs": [
    {
     "data": {
      "text/plain": [
       "(381.5, ['1.7968866304+8.240198656e-09j', '-3.471996+0.1864j'])"
      ]
     },
     "execution_count": 24,
     "metadata": {},
     "output_type": "execute_result"
    }
   ],
   "source": [
    "wave_diel_sil_wat[23]"
   ]
  },
  {
   "cell_type": "code",
   "execution_count": 25,
   "metadata": {
    "collapsed": true
   },
   "outputs": [],
   "source": [
    "import pygbe"
   ]
  },
  {
   "cell_type": "code",
   "execution_count": 26,
   "metadata": {
    "collapsed": true
   },
   "outputs": [],
   "source": [
    "from pygbe.util.read_data import readFields"
   ]
  },
  {
   "cell_type": "code",
   "execution_count": 27,
   "metadata": {
    "collapsed": true
   },
   "outputs": [],
   "source": [
    "from pygbe.main import main"
   ]
  },
  {
   "cell_type": "code",
   "execution_count": 28,
   "metadata": {
    "collapsed": false
   },
   "outputs": [],
   "source": [
    "field_test= readFields('sphere_complex.config')\n"
   ]
  },
  {
   "cell_type": "code",
   "execution_count": 29,
   "metadata": {
    "collapsed": false
   },
   "outputs": [
    {
     "data": {
      "text/plain": [
       "{'E': ['1.7956+8.5e-9j', '-3.3829+0.19136j'],\n",
       " 'LorY': ['1', '1'],\n",
       " 'Nchild': ['1', '0'],\n",
       " 'Nparent': ['0', '1'],\n",
       " 'charges': ['0', '0'],\n",
       " 'child': ['0'],\n",
       " 'coulomb': ['0', '0'],\n",
       " 'kappa': ['1e-12', '1e-12'],\n",
       " 'parent': ['NA', '0'],\n",
       " 'pot': ['0', '0'],\n",
       " 'qfile': ['NA', 'NA']}"
      ]
     },
     "execution_count": 29,
     "metadata": {},
     "output_type": "execute_result"
    }
   ],
   "source": [
    "field_test"
   ]
  },
  {
   "cell_type": "code",
   "execution_count": 30,
   "metadata": {
    "collapsed": false
   },
   "outputs": [
    {
     "name": "stdout",
     "output_type": "stream",
     "text": [
      "Run started on:\n",
      "\tDate: 2017/2/10\n",
      "\tTime: 18:26:16\n",
      "\tPyGBe version: 0.2.1+236.g6bf08a0\n",
      "Config file: /home/ncclementi/Documents/git/pygbe_dev/pygbe/examples/lspr/sphere_complex.config\n",
      "Parameter file: /home/ncclementi/Documents/git/pygbe_dev/pygbe/examples/lspr/sphere_complex.param\n",
      "Geometry folder: /home/ncclementi/Documents/git/pygbe_dev/pygbe/examples/lspr/geometry\n",
      "Running in: /home/ncclementi/Documents/git/pygbe_dev/pygbe/examples/lspr\n",
      "\n",
      "Reading surface 0 from file geometry/sphere2K_R10\n",
      "Time load mesh: 0.19775605201721191\n",
      "Removed areas=0: 0\n",
      "\n",
      "Total elements : 2048\n",
      "Total equations: 4096\n",
      "----------------------------\n",
      "\n",
      "1 surfaces:\n",
      "\n",
      "Surface 0:\n",
      "\t2048 elements\n",
      "\tSurface type       : dielectric_interface\n",
      "\tCells              : 9\n",
      "\tTwigs              : 8\n",
      "\tLevels             : 2\n",
      "\tC0 size            : 9.978611958305848\n",
      "\tC0 box center      : 0.0, 0.0, 0.0\n",
      "\tTwig cell size     : 4.989305979152924\n",
      "\tRbox/theta         : 9.978611958305848\n",
      "\tAnalytic distance  : 2.197623822113438\n",
      "\tElem. per sq Ang   : 1.6349357033949221\n",
      "\tMax, min, avg elem.: 1.0071412642037227, 0.48155623896004623, 0.6116448481267571\n",
      "\tTotal area         : 1252.6486489635986\n",
      "------------------------------\n",
      "\n",
      "2 regions:\n",
      "\n",
      "Region 0:\n",
      "\tLaplace or Yukawa: 1\n",
      "\tkappa            : 1e-12\n",
      "\tdielectric const : (1.7956+8.5e-09j)\n",
      "\tNumber of charges: 0\n",
      "\tParent surface   : []\n",
      "\tChild surfaces   : [0]\n",
      "Region 1:\n",
      "\tLaplace or Yukawa: 1\n",
      "\tkappa            : 1e-12\n",
      "\tdielectric const : (-3.3829+0.19136j)\n",
      "\tNumber of charges: 0\n",
      "\tParent surface   : [0]\n",
      "\tChild surfaces   : []\n",
      "------------------------------\n",
      "\n",
      "Parameters:\n",
      "\tData type               : <class 'numpy.float64'>\n",
      "\tUse GPU                 : 1\n",
      "\tP                       : 15\n",
      "\tthreshold               : 0.50\n",
      "\ttheta                   : 0.50\n",
      "\tNCRIT                   : 500\n",
      "\tCUDA block size         : 128\n",
      "\tGauss points per element: 3\n",
      "\tGauss points near singlr: 37\n",
      "\t1D Gauss points per side: 9\n",
      "\tGMRES tolerance         : 1e-06\n",
      "\tGMRES max iterations    : 1000\n",
      "\tGMRES restart iteration : 100\n",
      "----------------------------\n",
      "\n",
      "Generate interaction list\n",
      "Transfer data to GPU\n",
      "Generate RHS\n",
      "List time          : 0.0005154609680175781s\n",
      "Data transfer time : 0.004200458526611328s\n",
      "RHS generation time: 0.13476347923278809s\n",
      "------------------------------\n",
      "Total setup time   : 0.976733922958374s\n",
      "Solve\n",
      "Iteration: 1, relative residual: 0.3883893042057005\n",
      "Iteration: 2, relative residual: 0.3751974543125614\n",
      "Iteration: 3, relative residual: 0.19206505561801349\n",
      "Iteration: 4, relative residual: 0.04051450335088536\n",
      "Iteration: 5, relative residual: 0.01225486829943492\n",
      "Iteration: 6, relative residual: 0.006997215326081466\n",
      "Iteration: 7, relative residual: 0.003954597310228001\n",
      "Iteration: 8, relative residual: 0.001847881135259216\n",
      "Iteration: 9, relative residual: 0.0008535185277722408\n",
      "Iteration: 10, relative residual: 0.000795474434644062\n",
      "Iteration: 11, relative residual: 0.00034270129813155454\n",
      "Iteration: 12, relative residual: 0.00014570617008332682\n",
      "Iteration: 13, relative residual: 6.18482648416225e-05\n",
      "Iteration: 14, relative residual: 2.6079699364152885e-05\n",
      "Iteration: 15, relative residual: 1.9328078077550076e-05\n",
      "Iteration: 16, relative residual: 9.562825267080638e-06\n",
      "Iteration: 17, relative residual: 3.814601570997337e-06\n",
      "Iteration: 18, relative residual: 1.2665575814131529e-06\n",
      "GMRES solve\n",
      "Converged after 19 iterations to a residual of 6.976610417715303e-07\n",
      "Time weight vector: 0.19967088031768798\n",
      "Time sort         : 0.015950304027646776\n",
      "Time data transfer: 0.09711040022969245\n",
      "Time P2M          : 10.76954396057129\n",
      "Time M2M          : 0.8961052460670472\n",
      "Time M2P          : 0.0\n",
      "Time P2P          : 4.817720344543459\n",
      "\tTime analy: 0.0\n",
      "Solve time        : 16.737717390060425s\n",
      "Calculate extinction cross section\n",
      "Time Cext: 0.0002932548522949219s\n",
      "\n",
      "Cext:\n",
      "Surface 0: 3850.7215024214793 nm^2\n"
     ]
    }
   ],
   "source": [
    "#results = main(['', '/home/ncclementi/Documents/git/pygbe_dev/pygbe/examples/lspr'], field=field_test, return_results_dict=True)\n"
   ]
  },
  {
   "cell_type": "code",
   "execution_count": null,
   "metadata": {
    "collapsed": false
   },
   "outputs": [],
   "source": [
    "Cext = []\n",
    "for wave, E in wave_diel_sil_wat:\n",
    "    field_test['E'] = E #if here then 1st value of 'E' has to match 1st value in the E list \n",
    "    results = main(['', '/home/ncclementi/Documents/git/pygbe_dev/pygbe/examples/lspr'], field=field_test, lspr=(-1,wave), return_results_dict=True)\n",
    "    Cext.append(results['Cext'])"
   ]
  },
  {
   "cell_type": "code",
   "execution_count": null,
   "metadata": {
    "collapsed": true
   },
   "outputs": [],
   "source": []
  }
 ],
 "metadata": {
  "kernelspec": {
   "display_name": "Python 3",
   "language": "python",
   "name": "python3"
  },
  "language_info": {
   "codemirror_mode": {
    "name": "ipython",
    "version": 3
   },
   "file_extension": ".py",
   "mimetype": "text/x-python",
   "name": "python",
   "nbconvert_exporter": "python",
   "pygments_lexer": "ipython3",
   "version": "3.5.2"
  }
 },
 "nbformat": 4,
 "nbformat_minor": 0
}
