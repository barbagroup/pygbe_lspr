{
 "cells": [
  {
   "cell_type": "markdown",
   "metadata": {},
   "source": [
    "# Convergence analysis - sensor protein system\n",
    "\n",
    "Convergence analysis of a silver spherical sensor of radius 8 nm with a Bovine Serum Albumina (BSA) protein located at 1 nm of distance in the `z` direction. \n",
    "\n",
    "We selected a constant density of 2 triangles per Angstrom square for the protein mesh, while varying the density of the spherical sensor (512, 2048, 8192, 32768 elements). We computed the order of convergence and Richardson extarpolation using the 3 finest meshes, and calculated the respective relative errors. Finally, we analyze the relative errors for differente tolerances and protein meshes to relax the parameters to perform the simulations. \n",
    "\n",
    "We did this analysis for a wavelength of 380 nm."
   ]
  },
  {
   "cell_type": "code",
   "execution_count": 1,
   "metadata": {
    "collapsed": true
   },
   "outputs": [],
   "source": [
    "import numpy\n",
    "import pickle\n",
    "import convergence_helper \n",
    "from matplotlib import pyplot, rcParams\n",
    "%matplotlib inline"
   ]
  },
  {
   "cell_type": "code",
   "execution_count": 2,
   "metadata": {
    "collapsed": true
   },
   "outputs": [],
   "source": [
    "pickle_list = ['512', '2K', '8K', '32K']\n",
    "Cext_sensor = list()\n",
    "for mesh in pickle_list:\n",
    "    file_path = 'data/' + mesh + '_resultspickle'\n",
    "    dict_res = convergence_helper.pickleload(file_path)\n",
    "    Cext_sensor.append(dict_res['Cext_0'])\n",
    "    C_ext = numpy.array(Cext_sensor)"
   ]
  },
  {
   "cell_type": "code",
   "execution_count": 3,
   "metadata": {},
   "outputs": [
    {
     "data": {
      "text/plain": [
       "array([ 2301.56988701,  1905.62523724,  1811.09373056,  1786.98185102])"
      ]
     },
     "execution_count": 3,
     "metadata": {},
     "output_type": "execute_result"
    }
   ],
   "source": [
    "C_ext"
   ]
  },
  {
   "cell_type": "code",
   "execution_count": 4,
   "metadata": {},
   "outputs": [
    {
     "name": "stdout",
     "output_type": "stream",
     "text": [
      "0.985525567521\n"
     ]
    }
   ],
   "source": [
    "ord_conv = convergence_helper.ord_convergence(C_ext, 4)\n",
    "print(ord_conv)"
   ]
  },
  {
   "cell_type": "code",
   "execution_count": 5,
   "metadata": {},
   "outputs": [
    {
     "name": "stdout",
     "output_type": "stream",
     "text": [
      "1778.72587526\n"
     ]
    }
   ],
   "source": [
    "rich_ext = convergence_helper.richardson_extrapolation(C_ext)\n",
    "print(rich_ext)"
   ]
  },
  {
   "cell_type": "code",
   "execution_count": 6,
   "metadata": {},
   "outputs": [
    {
     "name": "stdout",
     "output_type": "stream",
     "text": [
      "percentage error [ 29.39429954   7.13428436   1.81972139   0.4641511 ]\n"
     ]
    }
   ],
   "source": [
    "rel_err, perc_err =  convergence_helper.perc_error(C_ext, rich_ext)\n",
    "\n",
    "print('percentage error', perc_err)"
   ]
  },
  {
   "cell_type": "code",
   "execution_count": null,
   "metadata": {
    "collapsed": true
   },
   "outputs": [],
   "source": []
  },
  {
   "cell_type": "code",
   "execution_count": 7,
   "metadata": {
    "collapsed": true
   },
   "outputs": [],
   "source": [
    "num_elements = numpy.array([512, 2048, 8192, 32768])\n"
   ]
  },
  {
   "cell_type": "code",
   "execution_count": 8,
   "metadata": {},
   "outputs": [
    {
     "data": {
      "image/png": "[encoded data removed]",
      "text/plain": [
       "<matplotlib.figure.Figure at 0x7f0b996de160>"
      ]
     },
     "metadata": {},
     "output_type": "display_data"
    }
   ],
   "source": [
    "convergence_helper.plot_sph_complex_convergence(\n",
    "    num_elements, rel_err, file_name='convergence_bsa_sensor_R8_d=1_w=380', file_ext='png')"
   ]
  },
  {
   "cell_type": "markdown",
   "metadata": {
    "collapsed": true
   },
   "source": [
    "Params used for convergence analysis: \n",
    "```\n",
    "Precision   double\n",
    "K           4\n",
    "Nk          9  \n",
    "K_fine      37\n",
    "thresold    0.5\n",
    "BSZ         128\n",
    "restart     100\n",
    "tolerance   1e-5\n",
    "max_iter    1000\n",
    "P           15\n",
    "eps         1e-12\n",
    "NCRIT       500\n",
    "theta       0.5   \n",
    "GPU         1\n",
    "```"
   ]
  },
  {
   "cell_type": "markdown",
   "metadata": {},
   "source": [
    "## Relaxation of parameters: \n",
    "* reduce density of protein form 2 to 1 triangles per Angstrom square \n",
    "\n",
    "```\n",
    "k_fine = 37\n",
    "P = 6\n",
    "tol = 1e-3\n",
    "```\n",
    "\n",
    "Solve time = 430 s\n",
    "iterations = 63\n",
    "\n",
    "Cext per surface\n",
    "Surface 0: 1768.4432836448827 nm^2\n",
    "Surface 1: 6.297916878775289 nm^2\n"
   ]
  },
  {
   "cell_type": "code",
   "execution_count": 9,
   "metadata": {
    "collapsed": true
   },
   "outputs": [],
   "source": [
    "C_ext_relax_1 = 1768.4433"
   ]
  },
  {
   "cell_type": "code",
   "execution_count": 10,
   "metadata": {},
   "outputs": [
    {
     "name": "stdout",
     "output_type": "stream",
     "text": [
      "percentage error 0.578086562002\n"
     ]
    }
   ],
   "source": [
    "rel_err_relax_1, perc_err_relax_1 = convergence_helper.perc_error(C_ext_relax_1, rich_ext)\n",
    "print('percentage error', perc_err_relax_1)"
   ]
  },
  {
   "cell_type": "markdown",
   "metadata": {},
   "source": [
    "```\n",
    "k_fine = 19\n",
    "P = 6\n",
    "tol = 1e-3\n",
    "```\n",
    "\n",
    "Solve time = 407\n",
    "iterations = 64\n",
    "\n",
    "Cext per surface\n",
    "Surface 0: 1767.1938008494571 nm^2\n",
    "Surface 1: 6.2969291092323045 nm^2\n"
   ]
  },
  {
   "cell_type": "code",
   "execution_count": 11,
   "metadata": {
    "collapsed": true
   },
   "outputs": [],
   "source": [
    "C_ext_relax_2 = 1767.1938"
   ]
  },
  {
   "cell_type": "code",
   "execution_count": 12,
   "metadata": {},
   "outputs": [
    {
     "name": "stdout",
     "output_type": "stream",
     "text": [
      "percentage error 0.648333473984\n"
     ]
    }
   ],
   "source": [
    "rel_err_relax_2, perc_err_relax_2 = convergence_helper.perc_error(C_ext_relax_2, rich_ext)\n",
    "print('percentage error', perc_err_relax_2)"
   ]
  },
  {
   "cell_type": "code",
   "execution_count": null,
   "metadata": {
    "collapsed": true
   },
   "outputs": [],
   "source": []
  }
 ],
 "metadata": {
  "kernelspec": {
   "display_name": "Python 3",
   "language": "python",
   "name": "python3"
  },
  "language_info": {
   "codemirror_mode": {
    "name": "ipython",
    "version": 3
   },
   "file_extension": ".py",
   "mimetype": "text/x-python",
   "name": "python",
   "nbconvert_exporter": "python",
   "pygments_lexer": "ipython3",
   "version": "3.6.1"
  }
 },
 "nbformat": 4,
 "nbformat_minor": 2
}
