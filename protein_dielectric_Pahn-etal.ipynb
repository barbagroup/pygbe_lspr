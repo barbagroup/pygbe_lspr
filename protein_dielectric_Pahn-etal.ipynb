{
 "cells": [
  {
   "cell_type": "markdown",
   "metadata": {},
   "source": [
    "## BSA - $\\epsilon(\\lambda)$ according to Pahn. et.al 2013\n",
    "\n",
    "\n",
    "They use Lorentz oscillators to get the dielectric constant of Bovine Serum Albumina as a function of the wavelngth. \n",
    "\n",
    "\\begin{equation}\n",
    "    \\epsilon_{protein}(\\lambda) = 1 + \\sum_j{\\frac{1/{\\Lambda_j}^2}\n",
    "    {1/{\\lambda_j}^2 -i/(\\lambda\\gamma_j) - 1/{\\lambda}^2}}\n",
    "\\end{equation}\n",
    "\n",
    "Where:\n",
    "\n",
    "* $\\Lambda_1 = 10853.54 $ nm\n",
    "* $\\Lambda_2 = 878.5 $ nm\n",
    "* $\\Lambda_3 = 92.6 $ nm\n",
    "* $\\Lambda_4 = 82.81 $ nm\n",
    "-------------------------\n",
    "* $\\gamma_1 = \\infty $ nm\n",
    "* $\\gamma_2 = 2484.52 $ nm\n",
    "* $\\gamma_3 = 155.28 $ nm\n",
    "* $\\gamma_4 = 65.38 $ nm\n",
    "--------------------------\n",
    "* $\\lambda_1 = 6059.8 $ nm\n",
    "* $\\lambda_2 = 194.1 $ nm\n",
    "* $\\lambda_3 = 99.38 $ nm\n",
    "* $\\lambda_4 = 57.78 $ nm\n"
   ]
  },
  {
   "cell_type": "markdown",
   "metadata": {},
   "source": [
    "Let's avoid the problems that $\\gamma_1= \\infty$ might cause when computing the function by separating that term and setting the $1/\\gamma_1=0$. \n",
    "\n",
    "Then our equation will look like:\n",
    "\n",
    "\\begin{equation}\n",
    "    \\epsilon_{protein}(\\lambda) = 1 + \\frac{1/{\\Lambda_1}^2}\n",
    "                                {1/{\\lambda_1}^2 - 1/{\\lambda}^2} +\n",
    "                                \\sum_{j=2}^{4}{\\frac{1/{\\Lambda_j}^2}\n",
    "                                {1/{\\lambda_j}^2 -i/(\\lambda\\gamma_j) - 1/{\\lambda}^2}}\n",
    "\\end{equation}"
   ]
  },
  {
   "cell_type": "code",
   "execution_count": 1,
   "metadata": {
    "collapsed": true
   },
   "outputs": [],
   "source": [
    "import numpy"
   ]
  },
  {
   "cell_type": "code",
   "execution_count": 2,
   "metadata": {
    "collapsed": false
   },
   "outputs": [],
   "source": [
    "#define _1 variables\n",
    "Lambda_1 = 10853.54\n",
    "lambda_1 = 6059.8"
   ]
  },
  {
   "cell_type": "code",
   "execution_count": 3,
   "metadata": {
    "collapsed": false
   },
   "outputs": [],
   "source": [
    "#define the rest (2-4) as an array\n",
    "\n",
    "Lambda_array = numpy.array([878.5, 92.6, 82.81])\n",
    "gamma_array = numpy.array([2484.52, 155.28, 65.38])\n",
    "lambda_array = numpy.array([194.1, 99.38, 57.78])\n",
    "\n",
    "#Let's use the version 1/ thing so it's less confusing\n",
    "\n",
    "sigma_array = 1/Lambda_array\n",
    "alpha_array = 1/gamma_array\n",
    "f_array = 1/lambda_array"
   ]
  },
  {
   "cell_type": "markdown",
   "metadata": {},
   "source": [
    "\\begin{equation}\n",
    "    \\epsilon_{protein}(\\lambda) = 1 + \\frac{{\\sigma_1}^2}\n",
    "                                {{f_1}^2 - 1/{\\lambda}^2} +\n",
    "                                \\sum_{j=2}^{4}{\\frac{{\\sigma_j}^2}\n",
    "                                {{f_j}^2 -i\\alpha_j/\\lambda - 1/{\\lambda}^2}}\n",
    "\\end{equation}"
   ]
  },
  {
   "cell_type": "code",
   "execution_count": 4,
   "metadata": {
    "collapsed": false
   },
   "outputs": [],
   "source": [
    "def protein_dielectric(lamb, Lambda_1, lambda_1, Lambda_array, lambda_array, gamma_array):\n",
    "    '''Computes the value of dielectric constant of a protein for a certain\n",
    "       wavelength. It uses Lorentz oscillators, obtained from Pahn, etal. 2013\n",
    "       \n",
    "    Arguments:\n",
    "    ----------\n",
    "    lamb        : float/array, wavelength in [nm] where we want to \n",
    "                         know the dielectric constant.\n",
    "    Lambda_1    : float, Lorentz oscillator upper lambda 1. \n",
    "    lambda_1    : float, Lorentz oscillator lower lambda 1.\n",
    "    Lambda_array: array of floats, Lorentz oscillator upper lambda 2,3,4.\n",
    "    lambda_array: array of floats, Lorentz oscillator lower lambda 2,3,4.\n",
    "    gamma_array : array of floats, Lorentz oscillator gamma 2,3,4.\n",
    "    \n",
    "    Returns:\n",
    "    --------\n",
    "    epsilon: complex, dielectric constant.\n",
    "    '''\n",
    "    #Let's use the version 1/ thing so it's less confusing\n",
    "    sigma_1 = 1/Lambda_1\n",
    "    f_1 = 1/lambda_1\n",
    "    \n",
    "    sigma_array = 1/Lambda_array\n",
    "    alpha_array = 1/gamma_array\n",
    "    f_array = 1/lambda_array\n",
    "    \n",
    "    \n",
    "    epsilon = 1 + sigma_1**2/(f_1**2 - (1/lamb**2)) + numpy.sum(\n",
    "                            sigma_array**2/(f_array**2 - \n",
    "                                            1j*alpha_array/lamb \n",
    "                                          - (1/lamb**2)))\n",
    "    \n",
    "    return epsilon"
   ]
  },
  {
   "cell_type": "code",
   "execution_count": 61,
   "metadata": {
    "collapsed": true
   },
   "outputs": [],
   "source": [
    "lamb = numpy.linspace(0.5,600,201)"
   ]
  },
  {
   "cell_type": "code",
   "execution_count": 62,
   "metadata": {
    "collapsed": true
   },
   "outputs": [],
   "source": [
    "a = numpy.linspace(1,6,6)"
   ]
  },
  {
   "cell_type": "code",
   "execution_count": 63,
   "metadata": {
    "collapsed": false
   },
   "outputs": [
    {
     "data": {
      "text/plain": [
       "array([ 1.,  2.,  3.,  4.,  5.,  6.])"
      ]
     },
     "execution_count": 63,
     "metadata": {},
     "output_type": "execute_result"
    }
   ],
   "source": [
    "a"
   ]
  },
  {
   "cell_type": "code",
   "execution_count": 64,
   "metadata": {
    "collapsed": false
   },
   "outputs": [],
   "source": [
    "epsilon = numpy.zeros(len(lamb), dtype=numpy.complex128)\n"
   ]
  },
  {
   "cell_type": "code",
   "execution_count": 65,
   "metadata": {
    "collapsed": false
   },
   "outputs": [],
   "source": [
    "#epsilon = numpy.zeros(len(lamb), dtype=complex128)\n",
    "for i in range(len(lamb)):\n",
    "    epsilon[i] = protein_dielectric(lamb[i], Lambda_1, lambda_1, Lambda_array, lambda_array, gamma_array)\n",
    "    "
   ]
  },
  {
   "cell_type": "code",
   "execution_count": 66,
   "metadata": {
    "collapsed": false
   },
   "outputs": [],
   "source": [
    "from matplotlib import pyplot\n",
    "%matplotlib inline"
   ]
  },
  {
   "cell_type": "code",
   "execution_count": 67,
   "metadata": {
    "collapsed": true
   },
   "outputs": [],
   "source": [
    "from matplotlib import rcParams\n",
    "rcParams['font.family'] = 'serif'\n",
    "rcParams['font.size'] = 14\n",
    "rcParams['xtick.top'] = True\n",
    "rcParams['ytick.right'] = True\n",
    "rcParams['axes.linewidth'] = 2"
   ]
  },
  {
   "cell_type": "code",
   "execution_count": 90,
   "metadata": {
    "collapsed": false
   },
   "outputs": [
    {
     "data": {
      "image/png": "[encoded data removed]",
      "text/plain": [
       "<matplotlib.figure.Figure at 0x7f24f0ce3b70>"
      ]
     },
     "metadata": {},
     "output_type": "display_data"
    }
   ],
   "source": [
    "pyplot.figure(figsize=(12,4))  \n",
    "\n",
    "pyplot.subplot(121)\n",
    "\n",
    "pyplot.plot(lamb,epsilon.real,ls='', marker='o', color='#2929a3', ms=5) \n",
    "\n",
    "pyplot.xlabel('Wavelength [nm]')\n",
    "pyplot.ylabel('Dielectric constant')\n",
    "pyplot.xlim(min(lamb), max(lamb))\n",
    "pyplot.ylim(0, 3.5)\n",
    "\n",
    "pyplot.xticks(numpy.linspace(0, max(lamb), 13), rotation=35)\n",
    "pyplot.tick_params(axis='both', length=8, width=1, direction='in')\n",
    "pyplot.title('Real')\n",
    "pyplot.grid(linestyle=':')\n",
    "\n",
    "\n",
    "pyplot.subplot(122)\n",
    "\n",
    "pyplot.plot(lamb,epsilon.imag, ls='', marker='o', color='#ff5733', ms=5) \n",
    "\n",
    "pyplot.xlabel('Wavelength [nm]')\n",
    "#pyplot.ylabel('Refractive index')\n",
    "pyplot.xlim(min(lamb), max(lamb))\n",
    "pyplot.ylim(0, 3.5)\n",
    "pyplot.xticks(numpy.linspace(0, max(lamb), 13), rotation=35)\n",
    "pyplot.tick_params(axis='both', length=8, width=1, direction='in')\n",
    "pyplot.title('Imaginary')\n",
    "pyplot.grid(linestyle=':')"
   ]
  },
  {
   "cell_type": "code",
   "execution_count": null,
   "metadata": {
    "collapsed": true
   },
   "outputs": [],
   "source": []
  }
 ],
 "metadata": {
  "kernelspec": {
   "display_name": "Python 3",
   "language": "python",
   "name": "python3"
  },
  "language_info": {
   "codemirror_mode": {
    "name": "ipython",
    "version": 3
   },
   "file_extension": ".py",
   "mimetype": "text/x-python",
   "name": "python",
   "nbconvert_exporter": "python",
   "pygments_lexer": "ipython3",
   "version": "3.5.2"
  }
 },
 "nbformat": 4,
 "nbformat_minor": 2
}
