{
 "cells": [
  {
   "cell_type": "markdown",
   "metadata": {},
   "source": [
    "## BSA - $\\epsilon(\\lambda)$ according to Pahn. et.al 2013\n",
    "\n",
    "\n",
    "They use Lorentz oscillators to get the dielectric constant of Bovine Serum Albumina as a function of the wavelngth. \n",
    "\n",
    "\\begin{equation}\n",
    "    \\epsilon_{protein}(\\lambda) = 1 + \\sum_j{\\frac{1/{\\Lambda_j}^2}\n",
    "    {1/{\\lambda_j}^2 -i/(\\lambda\\gamma_j) - 1/{\\lambda}^2}}\n",
    "\\end{equation}\n",
    "\n",
    "Where:\n",
    "\n",
    "* $\\Lambda_1 = 10853.54 $ nm\n",
    "* $\\Lambda_2 = 878.5 $ nm\n",
    "* $\\Lambda_3 = 92.6 $ nm\n",
    "* $\\Lambda_4 = 82.81 $ nm\n",
    "-------------------------\n",
    "* $\\gamma_1 = \\infty $ nm\n",
    "* $\\gamma_2 = 2484.52 $ nm\n",
    "* $\\gamma_3 = 155.28 $ nm\n",
    "* $\\gamma_4 = 65.38 $ nm\n",
    "--------------------------\n",
    "* $\\lambda_1 = 6059.8 $ nm\n",
    "* $\\lambda_2 = 194.1 $ nm\n",
    "* $\\lambda_3 = 99.38 $ nm\n",
    "* $\\lambda_4 = 57.78 $ nm\n"
   ]
  },
  {
   "cell_type": "markdown",
   "metadata": {},
   "source": [
    "Let's avoid the problems that $\\gamma_1= \\infty$ might cause when computing the function by separating that term and setting the $1/\\gamma_1=0$. \n",
    "\n",
    "Then our equation will look like:\n",
    "\n",
    "\\begin{equation}\n",
    "    \\epsilon_{protein}(\\lambda) = 1 + \\frac{1/{\\Lambda_1}^2}\n",
    "                                {1/{\\lambda_1}^2 - 1/{\\lambda}^2} +\n",
    "                                \\sum_{j=2}^{4}{\\frac{1/{\\Lambda_j}^2}\n",
    "                                {1/{\\lambda_j}^2 -i/(\\lambda\\gamma_j) - 1/{\\lambda}^2}}\n",
    "\\end{equation}"
   ]
  },
  {
   "cell_type": "code",
   "execution_count": null,
   "metadata": {
    "collapsed": true
   },
   "outputs": [],
   "source": []
  }
 ],
 "metadata": {
  "kernelspec": {
   "display_name": "Python 3",
   "language": "python",
   "name": "python3"
  },
  "language_info": {
   "codemirror_mode": {
    "name": "ipython",
    "version": 3
   },
   "file_extension": ".py",
   "mimetype": "text/x-python",
   "name": "python",
   "nbconvert_exporter": "python",
   "pygments_lexer": "ipython3",
   "version": "3.5.2"
  }
 },
 "nbformat": 4,
 "nbformat_minor": 2
}
