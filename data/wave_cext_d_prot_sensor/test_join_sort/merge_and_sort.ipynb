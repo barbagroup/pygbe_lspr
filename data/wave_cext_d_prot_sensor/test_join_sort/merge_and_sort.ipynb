{
 "cells": [
  {
   "cell_type": "code",
   "execution_count": 1,
   "metadata": {
    "collapsed": true
   },
   "outputs": [],
   "source": [
    "def merge_sort(src1, src2, dest):\n",
    "    with open(src1, 'r') as s1, open(src2, 'r') as s2, open(dest, 'w') as d:\n",
    "        l = list(s1) + list(s2)\n",
    "        l.sort()\n",
    "        l.pop(0)\n",
    "        c = ''.join(l)\n",
    "        d.write(c)"
   ]
  },
  {
   "cell_type": "code",
   "execution_count": 2,
   "metadata": {
    "collapsed": true
   },
   "outputs": [],
   "source": [
    "#files_list = [['BSA_sensor_d=1_int.txt', 'BSA_sensor_d=1.txt', 'BSA_sensor_d=1_total.txt'],\n",
    "#         ['BSA_sensor_d=2_int.txt', 'BSA_sensor_d=2.txt', 'BSA_sensor_d=2_total.txt'], \n",
    "#         ['BSA_sensor_d=4_int.txt', 'BSA_sensor_d=4.txt', 'BSA_sensor_d=4_total.txt'],\n",
    "#         ['BSA_sensor_d=infty_int.txt', 'BSA_sensor_d=infty.txt', 'BSA_sensor_d=infty_total.txt']]\n",
    "\n",
    "#files_list_R125 = [['BSA_sensorR125_d=1.txt', 'BSA_sensorR125_d=1_half.txt', 'BSA_sensorR125_d=1_total.txt'],\n",
    "#         ['BSA_sensorR125_d=2.txt', 'BSA_sensorR125_d=2_half.txt', 'BSA_sensorR125_d=2_total.txt'], \n",
    "#         ['BSA_sensorR125_d=4.txt', 'BSA_sensorR125_d=4_half.txt', 'BSA_sensorR125_d=4_total.txt'],\n",
    "#         ['BSA_sensorR125_d=infty.txt', 'BSA_sensorR125_d=infty_half.txt', 'BSA_sensorR125_d=infty_total.txt']]\n",
    "\n",
    "#files_d1 = [['BSA_sensorR125_d=1_dens1.txt', 'BSA_sensorR125_d=1_dens1_half.txt', 'BSA_sensorR125_d=1_dens1_total.txt'],\n",
    "#           ['BSA_sensorR125_d=infty.txt', 'BSA_sensorR125_d=infty_half.txt', 'BSA_sensorR125_d=infty_total.txt']]\n",
    "\n",
    "#files_ef = [['BSA_sensorR125_d=1_6030_ef0.0037.txt', 'BSA_sensorR125_d=1_6030_ef0.0037_half.txt', 'BSA_sensorR125_d=1_6030_ef0.0037_total.txt'],\n",
    "#           ['BSA_sensorR125_d=infty_ef0.0037.txt', 'BSA_sensorR125_d=infty_half_ef0.0037.txt', 'BSA_sensorR125_d=infty_ef0.0037_total.txt']]\n",
    "\n",
    "files_3p = [['BSA_sensorR125_3prot_d=1_ef0.0037.txt', 'BSA_sensorR125_3prot_d=1_ef0.0037_half.txt', 'BSA_sensorR125_3prot_d=1_ef0.0037_total.txt']]\n",
    "\n",
    "files_2p =[['BSA_sensorR125_2pz_d=1_ef0.0037.txt', 'BSA_sensorR125_2pz_d=1_ef0.0037_half.txt', 'BSA_sensorR125_2pz_d=1_ef0.0037_total.txt']]\n",
    "\n",
    "files_2p_00 =[['BSA_sensorR125_2pz_d=1_00_ef0.0037.txt', 'BSA_sensorR125_2pz_d=1_00_ef0.0037_half.txt', 'BSA_sensorR125_2pz_d=1_00_ef0.0037_total.txt']]\n",
    "\n",
    "files_3p_00 =[['BSA_sensorR125_3prot_d=1_00_ef0.0037.txt', 'BSA_sensorR125_3prot_d=1_00_ef0.0037_half.txt', 'BSA_sensorR125_3prot_d=1_00_ef0.0037_total.txt']]\n",
    "\n",
    "files_4p_00 =[['BSA_sensorR125_4prot_d=1_00_ef0.0037.txt', 'BSA_sensorR125_4prot_d=1_00_ef0.0037_half.txt', 'BSA_sensorR125_4prot_d=1_00_ef0.0037_total.txt']]\n",
    "\n",
    "files_2p_100 = [['BSA_sensorR100_d=infty_ef0.0037.txt', 'BSA_sensorR100_d=infty_half_ef0.0037.txt', 'BSA_sensorR100_d=infty_ef0.0037_total.txt'],\n",
    "           ['BSA_sensorR100_2prot_ef0.0037.txt', 'BSA_sensorR100_2prot_ef0.0037_half.txt', 'BSA_sensorR100_2prot_ef0.0037_total.txt']]\n",
    "\n",
    "files_3p_30x = [['BSA_sensorR100_3prot_ef0.0037.txt', 'BSA_sensorR100_3prot_ef0.0037_half.txt', 'BSA_sensorR100_3prot_ef0.0037_total.txt']]\n",
    "\n",
    "\n",
    "files_2p_80 = [['BSA_sensorR80_d=infty_ef0.0037.txt', 'BSA_sensorR80_d=infty_half_ef0.0037.txt', 'BSA_sensorR80_d=infty_ef0.0037_total.txt'],\n",
    "           ['BSA_sensorR80_2pz_d=1_00_ef0.0037.txt', 'BSA_sensorR80_2pz_d=1_00_ef0.0037_half.txt', 'BSA_sensorR80_2pz_d=1_00_ef0.0037_total.txt']]\n",
    "\n",
    "files_2p_d05 = [['BSA_sensorR80_2pz_d=0.5_00_ef0.0037.txt', 'BSA_sensorR80_2pz_d=0.5_00_ef0.0037_half.txt', 'BSA_sensorR80_2pz_d=0.5_00_ef0.0037_total.txt']]\n",
    "\n",
    "files_2p_80_gold = [['GOLD_BSA_sensorR80_d=infty_ef0.0037.txt', 'GOLD_BSA_sensorR80_d=infty_half_ef0.0037.txt', 'GOLD_BSA_sensorR80_d=infty_ef0.0037_total.txt'],\n",
    "           ['GOLD_BSA_sensorR80_2pz_d=0.5_00_ef0.0037.txt', 'GOLD_BSA_sensorR80_2pz_d=0.5_00_ef0.0037_half.txt', 'GOLD_BSA_sensorR80_2pz_d=0.5_00_ef0.0037_total.txt']]\n",
    "\n",
    "files_tilt = [['BSA_sensorR80_2pz_d=1_tilt_30.txt', 'BSA_sensorR80_2pz_d=1_tilt_30_half.txt', 'BSA_sensorR80_2pz_d=1_tilt_30_total.txt'],\n",
    "             ['BSA_sensorR80_2pz_d=1_tilt_45.txt', 'BSA_sensorR80_2pz_d=1_tilt_45_half.txt', 'BSA_sensorR80_2pz_d=1_tilt_45_total.txt']]\n",
    "\n",
    "files_x = [['BSA_sensorR80_2px_d=1_00.txt', 'BSA_sensorR80_2px_d=1_00_half.txt', 'BSA_sensorR80_2px_d=1_00_total.txt']]\n",
    "\n",
    "for files in files_x :\n",
    "    src1 = files[0] \n",
    "    src2 = files[1]\n",
    "    dest = files[2]\n",
    "\n",
    "    merge_sort(src1, src2, dest)"
   ]
  },
  {
   "cell_type": "code",
   "execution_count": null,
   "metadata": {
    "collapsed": true
   },
   "outputs": [],
   "source": []
  }
 ],
 "metadata": {
  "kernelspec": {
   "display_name": "Python 3",
   "language": "python",
   "name": "python3"
  },
  "language_info": {
   "codemirror_mode": {
    "name": "ipython",
    "version": 3
   },
   "file_extension": ".py",
   "mimetype": "text/x-python",
   "name": "python",
   "nbconvert_exporter": "python",
   "pygments_lexer": "ipython3",
   "version": "3.5.3"
  }
 },
 "nbformat": 4,
 "nbformat_minor": 2
}
