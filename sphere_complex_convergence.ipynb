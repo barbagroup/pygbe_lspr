{
 "cells": [
  {
   "cell_type": "markdown",
   "metadata": {},
   "source": [
    "# Silver sphere convergence\n",
    "\n",
    "We run the single sphere LSPR problem for meshes of 512, 2048, 8192 and 32768 elements, and we present in this notebook a convergence plot.\n",
    "\n",
    "Problem parameters:\n",
    "\n",
    "* Metal    : Silver (Ag). (In water at room temeprature)\n",
    "* Radius   : 10 nm\n",
    "* Wavelength: 380\n",
    "\n",
    "Values of dielectric constants obtained by interpolation:\n",
    "\n",
    "* Water dielectric: 1.7972083599999999+8.504766399999999e-09j\n",
    "* Silver dielectric: -3.3876520488233184+0.19220746083441781j"
   ]
  },
  {
   "cell_type": "markdown",
   "metadata": {},
   "source": [
    "# Loading convergen test data "
   ]
  },
  {
   "cell_type": "code",
   "execution_count": 1,
   "metadata": {
    "collapsed": true
   },
   "outputs": [],
   "source": [
    "import pickle"
   ]
  },
  {
   "cell_type": "code",
   "execution_count": 2,
   "metadata": {
    "collapsed": false
   },
   "outputs": [],
   "source": [
    "with open('data/convergence_test_silver_sphere.pickle', 'rb') as f:\n",
    "    results = pickle.load(f)"
   ]
  },
  {
   "cell_type": "code",
   "execution_count": 3,
   "metadata": {
    "collapsed": false
   },
   "outputs": [
    {
     "name": "stdout",
     "output_type": "stream",
     "text": [
      "{'sphere_complex': {'Time': array([   4.3364222 ,   16.69899726,  112.12610769,  612.35676122]), 'analytical': 3622.11606847442, 'expected_rate': 4.0, 'Cext_0': array([ 4699.05812047,  3887.15684191,  3691.14338622,  3640.92778344]), 'iterations': array([ 14.,  20.,  25.,  31.]), 'error': array([ 0.297324  ,  0.07317291,  0.01905718,  0.00519357]), 'N': array([   512.,   2048.,   8192.,  32768.])}}\n"
     ]
    }
   ],
   "source": [
    "print(results)"
   ]
  },
  {
   "cell_type": "code",
   "execution_count": 4,
   "metadata": {
    "collapsed": true
   },
   "outputs": [],
   "source": [
    "N = results['sphere_complex']['N']\n",
    "error = results['sphere_complex']['error']\n",
    "asymp = N[-2]*error[-2]/N"
   ]
  },
  {
   "cell_type": "code",
   "execution_count": 5,
   "metadata": {
    "collapsed": false
   },
   "outputs": [],
   "source": [
    "import numpy\n",
    "from matplotlib import pyplot, rcParams\n",
    "%matplotlib inline\n"
   ]
  },
  {
   "cell_type": "code",
   "execution_count": 8,
   "metadata": {
    "collapsed": false
   },
   "outputs": [
    {
     "data": {
      "image/png": "[encoded data removed]",
      "text/plain": [
       "<matplotlib.figure.Figure at 0x7f42bb008e48>"
      ]
     },
     "metadata": {},
     "output_type": "display_data"
    }
   ],
   "source": [
    "rcParams['font.family'] = 'serif'\n",
    "rcParams['font.size'] = 16\n",
    "rcParams['xtick.top'] = True\n",
    "rcParams['ytick.right'] = True\n",
    "rcParams['axes.linewidth'] = 2\n",
    "\n",
    "pyplot.figure(figsize=(9,6))\n",
    "\n",
    "pyplot.loglog(N, error, ls='',marker='o', c='k', mew=1.5, mfc='w', ms=10, label='')\n",
    "pyplot.loglog(N, asymp, c='k', marker='None', ls=':', lw=2, label=None)\n",
    "\n",
    "loc = (3*N[-2]+N[-1])/4\n",
    "\n",
    "tex_loc = numpy.array((loc,N[-1]*error[-1]/loc))\n",
    "\n",
    "pyplot.text(tex_loc[0], tex_loc[1],r'N$^{-1}$',fontsize=12,rotation=-35,rotation_mode='anchor')\n",
    "pyplot.xlabel('N')\n",
    "pyplot.ylabel('Relative error')\n",
    "pyplot.tick_params(axis='both', length=10, width=1, which='major', direction='in')\n",
    "pyplot.tick_params(axis='both', length=5, width=1, which='minor', direction='in')\n",
    "pyplot.ylim(1e-3,1)\n",
    "pyplot.xlim(1e2,1e5)\n",
    "pyplot.grid(True, which=\"both\");"
   ]
  }
 ],
 "metadata": {
  "kernelspec": {
   "display_name": "Python 3",
   "language": "python",
   "name": "python3"
  },
  "language_info": {
   "codemirror_mode": {
    "name": "ipython",
    "version": 3
   },
   "file_extension": ".py",
   "mimetype": "text/x-python",
   "name": "python",
   "nbconvert_exporter": "python",
   "pygments_lexer": "ipython3",
   "version": "3.5.2"
  }
 },
 "nbformat": 4,
 "nbformat_minor": 2
}
