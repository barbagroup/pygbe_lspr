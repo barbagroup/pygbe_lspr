{
 "cells": [
  {
   "cell_type": "markdown",
   "metadata": {},
   "source": [
    "# Data interpolation\n",
    "\n",
    "We have some data for the refractive index for gold, silver and water depending on the frequency. This data is provided for only a range og frequencies. Therefore, we need to interpolate the data to obtain values in different ranges.\n",
    "\n",
    "Christopher Cooper used his own script to interpolate, and obtain certain values. I want to use numpy interpolation and compare. Besides, he used linear interpolation without checking if the trend is linear. We will check the trend and plan the interpolation based on the trending.\n",
    "\n",
    "The raw data was obtained from the following papers:\n",
    "\n",
    "* Silver and gold: [Johnson and Christy, 1972](http://fisica.ufpr.br/jfreire/EstadoSolido/optical%20contstants%20of%20noble%20metals.pdf)\n",
    "\n",
    "* Water: [Hale and Querry, 1973](https://www.osapublishing.org/DirectPDFAccess/CAEC33D7-D5FA-10D2-3295270420D245D3_17737/ao-12-3-555.pdf?da=1&id=17737&seq=0&mobile=no)"
   ]
  },
  {
   "cell_type": "code",
   "execution_count": 1,
   "metadata": {
    "collapsed": true
   },
   "outputs": [],
   "source": [
    "import numpy \n",
    "from matplotlib import pyplot\n",
    "%matplotlib inline"
   ]
  },
  {
   "cell_type": "code",
   "execution_count": null,
   "metadata": {
    "collapsed": true
   },
   "outputs": [],
   "source": []
  }
 ],
 "metadata": {
  "kernelspec": {
   "display_name": "Python 3",
   "language": "python",
   "name": "python3"
  },
  "language_info": {
   "codemirror_mode": {
    "name": "ipython",
    "version": 3
   },
   "file_extension": ".py",
   "mimetype": "text/x-python",
   "name": "python",
   "nbconvert_exporter": "python",
   "pygments_lexer": "ipython3",
   "version": "3.4.5"
  }
 },
 "nbformat": 4,
 "nbformat_minor": 0
}
