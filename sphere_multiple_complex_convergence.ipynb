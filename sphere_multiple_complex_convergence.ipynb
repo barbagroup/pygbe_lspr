{
 "cells": [
  {
   "cell_type": "markdown",
   "metadata": {},
   "source": [
    "# sphere multiple complex convergence\n",
    "\n",
    "We run the multiple spheres LSPR problem for meshes of 512, 2048, 8192 and 32768 elements, and we present in this notebook a convergence plot.\n",
    "\n",
    "The multiple spheres problem consists in one big sphere of silver surrounded by 6 smalls \"protein\" spheres  across the cartesian axes at a distance of 1 nm, all embedded in water at room temperature.  \n",
    "\n",
    "Problem parameters:\n",
    "\n",
    "**Big sphere**\n",
    "\n",
    "* Metal    : Silver (Ag). \n",
    "* Radius   : 10 nm\n",
    "\n",
    "**Small spheres**\n",
    "\n",
    "* Protein  : Bovine Serum Albumina (BSA)\n",
    "* Radius   : 2 nm \n",
    "\n",
    "Values of dielectric constants obtained by interpolation:\n",
    "\n",
    "* Water dielectric: 1.7972083599999999+8.504766399999999e-09j\n",
    "* Silver dielectric: -3.3876520488233184+0.19220746083441781j\n",
    "\n",
    "Value of dielectric constant for the protein obtained from Pahn etal, 2013. \n",
    "\n",
    "* Protein dielectric: 2.751434851700645+0.2860230708531996j\n",
    "\n",
    "Wavelength of incomming electric field:\n",
    "\n",
    "* Wavelength: 380 nm"
   ]
  },
  {
   "cell_type": "code",
   "execution_count": null,
   "metadata": {
    "collapsed": true
   },
   "outputs": [],
   "source": []
  }
 ],
 "metadata": {
  "kernelspec": {
   "display_name": "Python 3",
   "language": "python",
   "name": "python3"
  },
  "language_info": {
   "codemirror_mode": {
    "name": "ipython",
    "version": 3
   },
   "file_extension": ".py",
   "mimetype": "text/x-python",
   "name": "python",
   "nbconvert_exporter": "python",
   "pygments_lexer": "ipython3",
   "version": "3.5.2"
  }
 },
 "nbformat": 4,
 "nbformat_minor": 2
}
