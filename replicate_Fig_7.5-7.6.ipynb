{
 "cells": [
  {
   "cell_type": "markdown",
   "metadata": {},
   "source": [
    "## Replicating Fig 7.5 and 7.6 - C.D.Cooper thesis\n",
    "\n",
    "In this notebook we present the replication using PyGBe of the results presented in Fig. 7.5 and 7.6 of C.D. Cooper thesis.\n",
    "\n",
    "In our case we use a different mesh in the case of silver because we consider the mesh used in the thesis implies errors over 7% in the cases were the wavelength was closed to the cross extinction section peak. You can confirm this checking [pygbe_vs_analytical_exp_data]() and [sphere_complex_convergence]()"
   ]
  }
 ],
 "metadata": {
  "kernelspec": {
   "display_name": "Python 3",
   "language": "python",
   "name": "python3"
  },
  "language_info": {
   "codemirror_mode": {
    "name": "ipython",
    "version": 3
   },
   "file_extension": ".py",
   "mimetype": "text/x-python",
   "name": "python",
   "nbconvert_exporter": "python",
   "pygments_lexer": "ipython3",
   "version": "3.5.2"
  }
 },
 "nbformat": 4,
 "nbformat_minor": 2
}
