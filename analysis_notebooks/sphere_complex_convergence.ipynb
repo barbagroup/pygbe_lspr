{
 "cells": [
  {
   "cell_type": "markdown",
   "metadata": {},
   "source": [
    "# sphere complex convergence\n",
    "\n",
    "We run the single sphere LSPR problem for meshes of 512, 2048, 8192 and 32768 elements, and we present in this notebook a convergence plot.\n",
    "\n",
    "Case for a silver sphere:\n",
    "\n",
    "Problem parameters:\n",
    "\n",
    "* Metal    : Silver (Ag). (In water at room temeprature)\n",
    "* Radius   : 10 nm\n",
    "* Wavelength: 380 nm\n",
    "\n",
    "Values of dielectric constants obtained by interpolation:\n",
    "\n",
    "* Water dielectric: 1.7972083599999999+8.504766399999999e-09j\n",
    "* Silver dielectric: -3.3876520488233184+0.19220746083441781j\n",
    "\n",
    "Case for a golden sphere:\n",
    "\n",
    "Problem parameters:\n",
    "\n",
    "* Metal    : Gold (Au). (In water at room temeprature)\n",
    "* Radius   : 10 nm\n",
    "* Wavelength: 520\n",
    "\n",
    "Values of dielectric constants obtained by interpolation:\n",
    "\n",
    "* Water dielectric: 1.7800896400000001+3.3515104000000003e-09j\n",
    "* Gold dielectric: -3.8874936460215972+2.6344121588317515j"
   ]
  },
  {
   "cell_type": "markdown",
   "metadata": {},
   "source": [
    "# Loading convergence test data "
   ]
  },
  {
   "cell_type": "code",
   "execution_count": 1,
   "metadata": {
    "collapsed": true
   },
   "outputs": [],
   "source": [
    "import pickle"
   ]
  },
  {
   "cell_type": "code",
   "execution_count": 2,
   "metadata": {
    "collapsed": false
   },
   "outputs": [],
   "source": [
    "with open('../data/convergence_tests.pickle', 'rb') as f:\n",
    "    results = pickle.load(f)"
   ]
  },
  {
   "cell_type": "code",
   "execution_count": 3,
   "metadata": {
    "code_folding": [],
    "collapsed": false
   },
   "outputs": [],
   "source": [
    "#Print results dictionary (uncomment next line to take a look at it)\n",
    "#print(results)"
   ]
  },
  {
   "cell_type": "code",
   "execution_count": 4,
   "metadata": {
    "collapsed": true
   },
   "outputs": [],
   "source": [
    "N_Ag = results['sphereAg_complex']['N']\n",
    "error_Ag = results['sphereAg_complex']['error']"
   ]
  },
  {
   "cell_type": "code",
   "execution_count": 5,
   "metadata": {
    "collapsed": true
   },
   "outputs": [],
   "source": [
    "N_Au = results['sphereAu_complex']['N']\n",
    "error_Au = results['sphereAu_complex']['error']"
   ]
  },
  {
   "cell_type": "code",
   "execution_count": 6,
   "metadata": {
    "collapsed": false
   },
   "outputs": [],
   "source": [
    "import numpy\n",
    "from matplotlib import pyplot, rcParams\n",
    "from scripts.data_analysis_helper import plot_sph_complex_convergence\n",
    "%matplotlib inline"
   ]
  },
  {
   "cell_type": "code",
   "execution_count": 7,
   "metadata": {
    "collapsed": false,
    "scrolled": true
   },
   "outputs": [
    {
     "data": {
      "image/png": "[encoded data removed]",
      "text/plain": [
       "<matplotlib.figure.Figure at 0x7f804425ac50>"
      ]
     },
     "metadata": {},
     "output_type": "display_data"
    }
   ],
   "source": [
    "plot_sph_complex_convergence(N_Ag, N_Au, error_Ag, error_Au)"
   ]
  },
  {
   "cell_type": "code",
   "execution_count": 8,
   "metadata": {
    "code_folding": [],
    "collapsed": false
   },
   "outputs": [
    {
     "name": "stdout",
     "output_type": "stream",
     "text": [
      "N     % error_Ag     % error_Au \n",
      "--------------------------------\n",
      "512       29.73%        5.328 %\n",
      "2048       7.32%        1.396 %\n",
      "8192       1.91%        0.363 %\n",
      "32768       0.52%        0.096 %\n"
     ]
    }
   ],
   "source": [
    "#Percentage error\n",
    "perc_error_Ag = error_Ag*100\n",
    "perc_error_Au = error_Au*100\n",
    "\n",
    "print('N     % error_Ag     % error_Au ')\n",
    "print('--------------------------------')\n",
    "for i in range(len(N_Ag)):\n",
    "    print('{}       {:.2f}%        {:.3f} %'.format(int(N_Ag[i]),\n",
    "                                    perc_error_Ag[i], perc_error_Au[i]))"
   ]
  },
  {
   "cell_type": "markdown",
   "metadata": {},
   "source": [
    "## Picking a mesh to replicate Fig 7.5  and 7.6 of C. Cooper thesis.\n",
    "\n",
    "Considering the error analysis study made in [LSPR: Pygbe vs analytical (experimental data)](https://github.com/ncclementi/pygbe_lspr/blob/master/pygbe_vs_analytical_exp_data.ipynb) we will use meshes of 8192 elements to perform the replication for the case of silver and one of 2048 elements for gold case. \n",
    "\n",
    "In both cases we perform the convergence analysis for a wavelength in the zone of were the error has a peak. Taking in to account that we want to have an error $<5\\%$, we considere safe options picking  ~8K elements for silver, and ~2k for gold. "
   ]
  },
  {
   "cell_type": "code",
   "execution_count": null,
   "metadata": {
    "collapsed": true
   },
   "outputs": [],
   "source": []
  }
 ],
 "metadata": {
  "kernelspec": {
   "display_name": "Python 3",
   "language": "python",
   "name": "python3"
  },
  "language_info": {
   "codemirror_mode": {
    "name": "ipython",
    "version": 3
   },
   "file_extension": ".py",
   "mimetype": "text/x-python",
   "name": "python",
   "nbconvert_exporter": "python",
   "pygments_lexer": "ipython3",
   "version": "3.5.2"
  }
 },
 "nbformat": 4,
 "nbformat_minor": 2
}
