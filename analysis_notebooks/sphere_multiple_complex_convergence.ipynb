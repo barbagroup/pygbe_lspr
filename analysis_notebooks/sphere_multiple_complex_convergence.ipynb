{
 "cells": [
  {
   "cell_type": "markdown",
   "metadata": {},
   "source": [
    "# sphere multiple complex convergence\n",
    "\n",
    "We run the multiple spheres LSPR problem for meshes of 512, 2048, 8192 and 32768 elements, and we present in this notebook a convergence plot.\n",
    "\n",
    "The multiple spheres problem consists in one big sphere of silver surrounded by 6 smalls \"protein\" spheres  across the cartesian axes at a distance of 1 nm, all embedded in water at room temperature.  \n",
    "\n",
    "Problem parameters:\n",
    "\n",
    "**Big sphere**\n",
    "\n",
    "* Metal    : Silver (Ag). \n",
    "* Radius   : 10 nm\n",
    "\n",
    "**Small spheres**\n",
    "\n",
    "* Protein  : Bovine Serum Albumina (BSA)\n",
    "* Radius   : 4 nm \n",
    "\n",
    "Values of dielectric constants obtained by interpolation:\n",
    "\n",
    "* Water dielectric: 1.7972083599999999+8.504766399999999e-09j\n",
    "* Silver dielectric: -3.3876520488233184+0.19220746083441781j\n",
    "\n",
    "Value of dielectric constant for the protein obtained from Pahn etal, 2013. \n",
    "\n",
    "* Protein dielectric: 2.751434851700645+0.2860230708531996j\n",
    "\n",
    "Wavelength of incomming electric field:\n",
    "\n",
    "* Wavelength: 380 nm"
   ]
  },
  {
   "cell_type": "markdown",
   "metadata": {},
   "source": [
    " # Loading convergence test data "
   ]
  },
  {
   "cell_type": "code",
   "execution_count": 1,
   "metadata": {
    "collapsed": true
   },
   "outputs": [],
   "source": [
    "import pickle"
   ]
  },
  {
   "cell_type": "code",
   "execution_count": 2,
   "metadata": {
    "collapsed": true
   },
   "outputs": [],
   "source": [
    "with open('../data/convergence_test_7sph.pickle', 'rb') as f:\n",
    "    results = pickle.load(f)"
   ]
  },
  {
   "cell_type": "code",
   "execution_count": 3,
   "metadata": {
    "collapsed": false
   },
   "outputs": [],
   "source": [
    "#Print results dictionary (uncomment next line to take a look at it)\n",
    "#print(results)"
   ]
  },
  {
   "cell_type": "code",
   "execution_count": 4,
   "metadata": {
    "collapsed": true
   },
   "outputs": [],
   "source": [
    "avg_density = results['sphere_multiple_complex']['avg_density']\n",
    "error = results['sphere_multiple_complex']['error']"
   ]
  },
  {
   "cell_type": "code",
   "execution_count": 5,
   "metadata": {
    "collapsed": false
   },
   "outputs": [],
   "source": [
    "import numpy\n",
    "from matplotlib import pyplot, rcParams\n",
    "from scripts.data_analysis_helper import plot_sph_multiple_complex_convergence\n",
    "%matplotlib inline"
   ]
  },
  {
   "cell_type": "code",
   "execution_count": 6,
   "metadata": {
    "collapsed": false
   },
   "outputs": [
    {
     "data": {
      "image/png": "[encoded data removed]",
      "text/plain": [
       "<matplotlib.figure.Figure at 0x7f1c708d6048>"
      ]
     },
     "metadata": {},
     "output_type": "display_data"
    }
   ],
   "source": [
    "plot_sph_multiple_complex_convergence(avg_density, error)"
   ]
  },
  {
   "cell_type": "code",
   "execution_count": 7,
   "metadata": {
    "code_folding": [
     0
    ],
    "collapsed": false
   },
   "outputs": [
    {
     "name": "stdout",
     "output_type": "stream",
     "text": [
      "avg_dens     % error\n",
      "---------------------\n",
      "0.52           28.09\n",
      "2.08           6.56\n",
      "8.32           1.64\n",
      "33.26           0.41\n"
     ]
    }
   ],
   "source": [
    "#Percentage error\n",
    "perc_error = error*100\n",
    "\n",
    "print('avg_dens     % error')\n",
    "print('---------------------')\n",
    "for i in range(len(avg_density)):\n",
    "    print('{:.2f}           {:.2f}'.format(avg_density[i],\n",
    "                                    perc_error[i]))"
   ]
  },
  {
   "cell_type": "markdown",
   "metadata": {},
   "source": [
    "## Picking a mesh for a similar Fig 7.9 of C. Cooper thesis.\n",
    "\n",
    "In this case we won't replicate the Fig 7.9 since we decided to use a different protein and different data for the dielectric constant.\n",
    "\n",
    "Considering that the error in the case of `8K-2K` mesh (avg density = 13.14) is $<2\\%$ we will use this mesh to perform the runs."
   ]
  }
 ],
 "metadata": {
  "kernelspec": {
   "display_name": "Python 3",
   "language": "python",
   "name": "python3"
  },
  "language_info": {
   "codemirror_mode": {
    "name": "ipython",
    "version": 3
   },
   "file_extension": ".py",
   "mimetype": "text/x-python",
   "name": "python",
   "nbconvert_exporter": "python",
   "pygments_lexer": "ipython3",
   "version": "3.5.2"
  }
 },
 "nbformat": 4,
 "nbformat_minor": 2
}
