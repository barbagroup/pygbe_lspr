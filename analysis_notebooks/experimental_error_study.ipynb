{
 "cells": [
  {
   "cell_type": "markdown",
   "metadata": {},
   "source": [
    "This notebook has an analysis of difference in the analytical solution if we calculate the cases that contemplates the error in the experminetal data of the silver case. \n",
    "\n",
    "According to  Johnson and Christy, 1972. The real part of the refrac index has an error of +/- 0.02 and the imaginary part +/- 0.007."
   ]
  },
  {
   "cell_type": "code",
   "execution_count": 1,
   "metadata": {
    "collapsed": true
   },
   "outputs": [],
   "source": [
    "import numpy"
   ]
  },
  {
   "cell_type": "code",
   "execution_count": 2,
   "metadata": {
    "collapsed": true
   },
   "outputs": [],
   "source": [
    "#silver-water (silver experimental - water extrapolated)\n",
    "radius = 10\n",
    "wavelength_refrac = 381.5\n",
    "refrac_in  = 0.05 + 1j*1.864\n",
    "refrac_out =1.340479999999999894e+00 + 1j*3.073599999999999809e-09"
   ]
  },
  {
   "cell_type": "code",
   "execution_count": 3,
   "metadata": {
    "collapsed": false
   },
   "outputs": [
    {
     "name": "stdout",
     "output_type": "stream",
     "text": [
      "(-3.4719960000000003+0.1864j)\n",
      "(1.7968866303999997+8.240198655999999e-09j)\n"
     ]
    }
   ],
   "source": [
    "diel_in  = refrac_in*refrac_in\n",
    "diel_out = refrac_out*refrac_out\n",
    "\n",
    "print(diel_in)\n",
    "print(diel_out)"
   ]
  },
  {
   "cell_type": "code",
   "execution_count": 4,
   "metadata": {
    "collapsed": true
   },
   "outputs": [],
   "source": [
    "def Cext_analytical(radius, wavelength_refrac, refrac_in, refrac_out):\n",
    "    diel_in  = refrac_in*refrac_in\n",
    "    diel_out = refrac_out*refrac_out\n",
    "\n",
    "    wavenumber = 2*numpy.pi*refrac_out/wavelength_refrac\n",
    "    C1 = wavenumber**2*(diel_in/diel_out-1)/(diel_in/diel_out+2)\n",
    "    Cext_an = 4*numpy.pi*radius**3/wavenumber.real * C1.imag \n",
    "    \n",
    "    return Cext_an"
   ]
  },
  {
   "cell_type": "code",
   "execution_count": 5,
   "metadata": {
    "collapsed": true
   },
   "outputs": [],
   "source": [
    "Cext_silv = Cext_analytical(radius, wavelength_refrac, refrac_in, refrac_out)"
   ]
  },
  {
   "cell_type": "markdown",
   "metadata": {},
   "source": [
    "Assuming silver refrac_index is  0.05 + 1j*1.864 "
   ]
  },
  {
   "cell_type": "code",
   "execution_count": 6,
   "metadata": {
    "collapsed": false
   },
   "outputs": [
    {
     "name": "stdout",
     "output_type": "stream",
     "text": [
      "Cext_an = 5623.200846179918 nm^2 for silver sphere of radius = 10 nm and incomming wavelength 381.5nm \n"
     ]
    }
   ],
   "source": [
    "print('Cext_an = {} nm^2 for silver sphere of radius = 10 nm and incomming wavelength 381.5nm '.format(Cext_silv))"
   ]
  },
  {
   "cell_type": "markdown",
   "metadata": {},
   "source": [
    "The real part of the refrac index has an error of +/- 0.02 and the imaginary part +/- 0.007.\n",
    "Let's run the case where we get +0.02 and +0.007 "
   ]
  },
  {
   "cell_type": "code",
   "execution_count": 7,
   "metadata": {
    "collapsed": false
   },
   "outputs": [],
   "source": [
    "error_r = [+0.02, +0.02, -0.02, -0.02]\n",
    "error_i = [+0.007, -0.007, +0.007, -0.007]"
   ]
  },
  {
   "cell_type": "code",
   "execution_count": 8,
   "metadata": {
    "collapsed": true
   },
   "outputs": [],
   "source": [
    "error_cases = list(zip(error_r, error_i))"
   ]
  },
  {
   "cell_type": "code",
   "execution_count": 9,
   "metadata": {
    "collapsed": false
   },
   "outputs": [
    {
     "name": "stdout",
     "output_type": "stream",
     "text": [
      "[(0.02, 0.007), (0.02, -0.007), (-0.02, 0.007), (-0.02, -0.007)]\n"
     ]
    }
   ],
   "source": [
    "print(error_cases)"
   ]
  },
  {
   "cell_type": "code",
   "execution_count": 10,
   "metadata": {
    "collapsed": false
   },
   "outputs": [],
   "source": [
    "refrac_in_err = []\n",
    "for err_real, err_imag in error_cases:\n",
    "\n",
    "    refrac_in_err.append(0.05+err_real + 1j*1.864 + 1j*err_imag)"
   ]
  },
  {
   "cell_type": "code",
   "execution_count": 11,
   "metadata": {
    "collapsed": false
   },
   "outputs": [],
   "source": [
    "Cext_silv_err=[]\n",
    "for ref in refrac_in_err:\n",
    "    \n",
    "    refrac_in = ref\n",
    "    Cext_silv_err.append(Cext_analytical(radius, wavelength_refrac, refrac_in, refrac_out))"
   ]
  },
  {
   "cell_type": "code",
   "execution_count": 12,
   "metadata": {
    "collapsed": false
   },
   "outputs": [
    {
     "name": "stdout",
     "output_type": "stream",
     "text": [
      "[(0.02, 0.007), (0.02, -0.007), (-0.02, 0.007), (-0.02, -0.007)]\n",
      "[5008.012650574057, 4312.591024356962, 7829.0509256453615, 4930.55669638912]\n"
     ]
    }
   ],
   "source": [
    "print(error_cases)\n",
    "print(Cext_silv_err)"
   ]
  },
  {
   "cell_type": "code",
   "execution_count": 13,
   "metadata": {
    "collapsed": false
   },
   "outputs": [],
   "source": [
    "diff = []\n",
    "for cext in Cext_silv_err:\n",
    "    diff.append(abs(Cext_silv-cext)/Cext_silv)"
   ]
  },
  {
   "cell_type": "code",
   "execution_count": 14,
   "metadata": {
    "collapsed": true
   },
   "outputs": [],
   "source": [
    "err_diff = list(zip(error_cases, diff))"
   ]
  },
  {
   "cell_type": "code",
   "execution_count": 15,
   "metadata": {
    "collapsed": false
   },
   "outputs": [
    {
     "name": "stdout",
     "output_type": "stream",
     "text": [
      "error case: (0.02, 0.007) difference in % with cext refr_ind= 0.05+1.864i = 10.9 %\n",
      "error case: (0.02, -0.007) difference in % with cext refr_ind= 0.05+1.864i = 23.3 %\n",
      "error case: (-0.02, 0.007) difference in % with cext refr_ind= 0.05+1.864i = 39.2 %\n",
      "error case: (-0.02, -0.007) difference in % with cext refr_ind= 0.05+1.864i = 12.3 %\n"
     ]
    }
   ],
   "source": [
    "for i, j in err_diff:\n",
    "    print('error case: {} difference in % with cext refr_ind= 0.05+1.864i = {:.1f} %'.format(i,j*100))"
   ]
  },
  {
   "cell_type": "code",
   "execution_count": 16,
   "metadata": {
    "collapsed": false
   },
   "outputs": [
    {
     "name": "stdout",
     "output_type": "stream",
     "text": [
      "percentage error = 0.3744748916878927 %\n"
     ]
    }
   ],
   "source": [
    "#Value of pygbe run for refr_ind= 0.05+1.864i mesh 2K\n",
    "\n",
    "Cext_pygbe =  5602.143370901793\n",
    "\n",
    "err_pygbe = abs(Cext_silv-Cext_pygbe)/Cext_silv\n",
    "\n",
    "print('percentage error = {} %'.format(err_pygbe*100))"
   ]
  }
 ],
 "metadata": {
  "kernelspec": {
   "display_name": "Python 3",
   "language": "python",
   "name": "python3"
  },
  "language_info": {
   "codemirror_mode": {
    "name": "ipython",
    "version": 3
   },
   "file_extension": ".py",
   "mimetype": "text/x-python",
   "name": "python",
   "nbconvert_exporter": "python",
   "pygments_lexer": "ipython3",
   "version": "3.5.2"
  }
 },
 "nbformat": 4,
 "nbformat_minor": 0
}
