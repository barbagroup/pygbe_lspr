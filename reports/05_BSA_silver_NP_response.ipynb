{
 "cells": [
  {
   "cell_type": "markdown",
   "metadata": {},
   "source": [
    "# LSPR sensor response of silver NP to BSA\n",
    "\n",
    "In the section [03_LSPR_sensor_response_POC](http://nbviewer.jupyter.org/github/barbagroup/pygbe_lspr/blob/master/reports/03_LSPR_sensor_response_POC.ipynb)we presented a proof of concept of LSPR sensor response to BSA. LSPR biosensors detect a target molecule by monitoring plasmon resonance frequency changes due to the proximity of the target to the metallic nanoparticle. \n",
    "\n",
    "In the POC study, we used spheres to represent BSA. In this section we present results obtained by using a mesh of the crystal structure of Bovine Serum Albumina and its charge distribution. \n",
    "\n",
    "Initially, we used a silver nanoparticle of $r=25 \\; nm$ and we set one BSA protein at a distance of $1 \\; nm$ along the z-axis and we had an electric field of -1 $[e]/([{\\unicode{x212B}^2}][\\epsilon_0])$ (equivalent to $-1.8095 \\; \\text{x} \\; 10^{12} \\;[V]/[m]$), where the minus indicates the electric field is pointing in -z direction. For this case we didn't obeserve significant changes. \n",
    "\n",
    "After consulting parameters picked for similar studies in Pahn, et al. (1) and Tang, et al. (2),  we picked a silver nanoparticle $r=8 \\; nm$ and an electric field of $-6.64 \\; \\text{x} \\; 10^{9} \\;[V]/[m]$ (units of the code it's $\\sim -0.00367 [e]/([{\\unicode{x212B}^2}][\\epsilon_0])$).\n",
    "\n",
    "Preliminary conclusions:\n",
    "\n",
    "* **The intensity of the electric field affects only when we include the charges.** \n",
    "\n",
    "We noticed that if we remove the charges from inside the protein and we vary the magnitud and direction of the electric field, the results obtained do not change. \n",
    "\n",
    "* **The electric field affects the magnitud of the peak.**\n",
    "\n",
    "We observed that when charges are present, the magnitud of the peak varies depending on the electric field. \n",
    "\n",
    "\n",
    "* **When we tilt the angle, we don't detect changes**\n",
    "\n",
    "* **The orientation of the dipole moment respect to the electric field affects shift of the pick when we rotate and the magnitud of the peak.\n",
    "\n",
    "\n",
    "* **The location of the protein affects the shift of the peak. **\n",
    "\n",
    "After multiple simulations with electric field in -z-axis, we realized that two proteins located at 1 nm +/- z-axis with its dipole moment aligned with the y-axis, influence more than those proteins located at 1 nm +/- y-axis or x-axis."
   ]
  },
  {
   "cell_type": "markdown",
   "metadata": {
    "collapsed": true
   },
   "source": [
    "## Results of 2 BSA located at 1 nm of +/- z\n",
    "\n",
    "### Notes:\n",
    "\n",
    "* Silver sphere of radius 8 nm\n",
    "* Dipole moment of protein aligned with y-axis\n",
    "\n",
    "<img src=\"figures/sphereR8nm_2prot_z.png\" style=\"width: 500px;\"/> \n",
    "\n",
    "#### Fig 1.  BSAs sensor display. "
   ]
  },
  {
   "cell_type": "markdown",
   "metadata": {},
   "source": [
    "<img src=\"figures/2pz_00_ef-0.0037_R8nm.png\" style=\"width: 600px;\"/> \n",
    "<br />\n",
    "#### Fig 2. Close-up of spectrum shift d = 1 nm.  "
   ]
  },
  {
   "cell_type": "markdown",
   "metadata": {},
   "source": [
    "Cext max at $d=\\infty$ is $\\sim 4010$ and it occurs at a wavelength of 384.0 nm.\n",
    "\n",
    "Cext max at $d=1$ nm is $\\sim 3901$ and it occurs at a wavelength of 384.5 nm\n",
    "\n",
    "**Shift: 0.5 nm**"
   ]
  },
  {
   "cell_type": "markdown",
   "metadata": {},
   "source": [
    "<img src=\"figures/2pz_d05_00_ef-0.0037_R8nm.png\" style=\"width: 600px;\"/> \n",
    "<br />\n",
    "#### Fig 3. Close-up of spectrum shift d = 0.5 nm.  "
   ]
  },
  {
   "cell_type": "markdown",
   "metadata": {},
   "source": [
    "Cext max at $d=\\infty$ is $\\sim 4010 \\, nm^2$ and it occurs at a wavelength of 384.0 nm.\n",
    "\n",
    "Cext max at $d=0.5$ nm is $\\sim 3843 \\, nm^2$ and it occurs at a wavelength of 384.75 nm\n",
    "\n",
    "**Shift: 0.75 nm**"
   ]
  },
  {
   "cell_type": "markdown",
   "metadata": {},
   "source": [
    "## Results of 2 BSA located at 1 nm of +/- z with a tilt angle of 30 deg (RH rule z )\n",
    "\n",
    "### Notes:\n",
    "\n",
    "* Silver sphere of radius 8 nm\n",
    "* Dipole moment of protein tilted 30 deg.\n",
    "\n",
    "<img src=\"figures/sphereR8nm_2prot_z_tilt30.png\" style=\"width: 500px;\"/> \n",
    "\n",
    "#### Fig 4.  BSAs sensor display tilt angle 30deg. "
   ]
  },
  {
   "cell_type": "markdown",
   "metadata": {},
   "source": [
    "<img src=\"figures/2pz_30_ef-0.0037_R8nm.png\" style=\"width: 600px;\"/> \n",
    "<br />\n",
    "#### Fig 5. Close-up of spectrum shift d = 1 nm with protein tilted 30 deg.  "
   ]
  },
  {
   "cell_type": "markdown",
   "metadata": {},
   "source": [
    "Cext max at $d=\\infty$ is $\\sim 4010$ and it occurs at a wavelength of 384.0 nm.\n",
    "\n",
    "Cext max at $d=1$ nm is $\\sim 3901$ and it occurs at a wavelength of 384.5 nm\n",
    "\n",
    "**Shift: 0.5 nm**"
   ]
  },
  {
   "cell_type": "markdown",
   "metadata": {},
   "source": [
    "## Results of 2 BSA located at 1 nm of +/- z with a tilt angle of 30 deg (RH rule x )\n",
    "\n",
    "\n",
    "\n",
    "<img src=\"figures/2pz_30_x_ef-0.0037_R8nm.png\" style=\"width: 600px;\"/> \n",
    "\n",
    "#### Fig 6.  BSAs sensor display tilt angle 30deg  rh rule x. "
   ]
  },
  {
   "cell_type": "markdown",
   "metadata": {},
   "source": [
    "Cext max at $d=\\infty$ is $\\sim 4010$ and it occurs at a wavelength of 384.0 nm.\n",
    "\n",
    "Cext max at $d=1$ nm is $\\sim 3903$ and it occurs at a wavelength of 384.5 nm\n",
    "\n",
    "**Shift: 0.5 nm**"
   ]
  },
  {
   "cell_type": "markdown",
   "metadata": {},
   "source": [
    "## Results of 2 BSA located at 1 nm of +/- z with a tilt angle of 45 deg\n",
    "\n",
    "We tested the case of tilt 45 deg and we obtained similar results. No changes in the magnitud of the shift. \n",
    "\n",
    "<img src=\"figures/sphereR8nm_2prot_z_rot45.png\" style=\"width: 500px;\"/> \n"
   ]
  },
  {
   "cell_type": "markdown",
   "metadata": {},
   "source": [
    "<img src=\"figures/2pz_45_ef-0.0037_R8nm.png\" style=\"width: 600px;\"/> \n",
    "<br />\n",
    "#### Fig 7. Close-up of spectrum shift d = 1 nm with protein tilted 45 deg.  "
   ]
  },
  {
   "cell_type": "markdown",
   "metadata": {},
   "source": [
    "Cext max at $d=\\infty$ is $\\sim 4010$ and it occurs at a wavelength of 384.0 nm.\n",
    "\n",
    "Cext max at $d=1$ nm is $\\sim 3901$ and it occurs at a wavelength of 384.5 nm\n",
    "\n",
    "**Shift: 0.5 nm**"
   ]
  },
  {
   "cell_type": "markdown",
   "metadata": {},
   "source": [
    "## Results of 2 BSA located at 1 nm of +/- z with a rotation angle of 45 deg"
   ]
  },
  {
   "cell_type": "markdown",
   "metadata": {},
   "source": [
    "<img src=\"figures/2pz_rot_45_ef-0.0037_R8nm.png\" style=\"width: 600px;\"/> \n",
    "<br />\n",
    "#### Fig 8. Close-up of spectrum shift d = 1 nm with protein rotated 45 deg.  "
   ]
  },
  {
   "cell_type": "markdown",
   "metadata": {},
   "source": [
    "Cext max at $d=\\infty$ is $\\sim 4010$ and it occurs at a wavelength of 384.0 nm.\n",
    "\n",
    "Cext max at $d=1$ nm is $\\sim 3938$ and it occurs at a wavelength of 384.25 nm\n",
    "\n",
    "**Shift: 0.25 nm**"
   ]
  },
  {
   "cell_type": "markdown",
   "metadata": {},
   "source": [
    "## Results of 2 BSA located at 1 nm of +/- z with a rotation angle of 90 deg"
   ]
  },
  {
   "cell_type": "markdown",
   "metadata": {},
   "source": [
    "<img src=\"figures/2pz_rot_90_ef-0.0037_R8nm.png\" style=\"width: 600px;\"/> \n",
    "<br />\n",
    "#### Fig 9. Close-up of spectrum shift d = 1 nm with protein rotated 90 deg.  "
   ]
  },
  {
   "cell_type": "markdown",
   "metadata": {},
   "source": [
    "Cext max at $d=\\infty$ is $\\sim 4010$ and it occurs at a wavelength of 384.0 nm.\n",
    "\n",
    "Cext max at $d=1$ nm is $\\sim 3943$ and it occurs at a wavelength of 384.25 nm\n",
    "\n",
    "**Shift: 0.25 nm**"
   ]
  },
  {
   "cell_type": "markdown",
   "metadata": {},
   "source": [
    "## Results of 2 BSA located at 1 nm of +/- x "
   ]
  },
  {
   "cell_type": "markdown",
   "metadata": {},
   "source": [
    "<img src=\"figures/2px_ef-0.0037_R8nm.png\" style=\"width: 600px;\"/> \n",
    "<br />\n",
    "#### Fig 10. Close-up of spectrum shift d = 1 nm with proteins located at +/- x"
   ]
  },
  {
   "cell_type": "markdown",
   "metadata": {},
   "source": [
    "Cext max at $d=\\infty$ is $\\sim 4010$ and it occurs at a wavelength of 384.0 nm.\n",
    "\n",
    "Cext max at $d=1$ nm is $\\sim 3979$ and it occurs at a wavelength of 384.0 nm\n",
    "\n",
    "**Shift: 0 nm**"
   ]
  },
  {
   "cell_type": "markdown",
   "metadata": {},
   "source": [
    "## Results of 2 BSA located at 1 nm of +/- y"
   ]
  },
  {
   "cell_type": "markdown",
   "metadata": {},
   "source": [
    "<img src=\"figures/2py_ef-0.0037_R8nm.png\" style=\"width: 600px;\"/> \n",
    "<br />\n",
    "#### Fig 11. Close-up of spectrum shift d = 1 nm with proteins located at +/- y"
   ]
  },
  {
   "cell_type": "markdown",
   "metadata": {},
   "source": [
    "Cext max at $d=\\infty$ is $\\sim 4010$ and it occurs at a wavelength of 384.0 nm.\n",
    "\n",
    "Cext max at $d=1$ nm is $\\sim 3985$ and it occurs at a wavelength of 384.0 nm\n",
    "\n",
    "**Shift: 0 nm**"
   ]
  },
  {
   "cell_type": "markdown",
   "metadata": {},
   "source": [
    "##### References\n",
    "\n",
    "(1) Phan, Anh D., et al. \"Surface plasmon resonances of protein-conjugated gold nanoparticles on graphitic substrates.\" Applied Physics Letters 103.16 (2013): 163702.\n",
    "\n",
    "(2) Tang, Bin, et al. \"Two-dimensional correlation localized surface plasmon resonance spectroscopy for analysis of the interaction between metal nanoparticles and bovine serum albumin.\" The Journal of Physical Chemistry C 114.49 (2010): 20990-20996."
   ]
  },
  {
   "cell_type": "code",
   "execution_count": 1,
   "metadata": {},
   "outputs": [
    {
     "data": {
      "text/html": [
       "<link href='http://fonts.googleapis.com/css?family=Fenix' rel='stylesheet' type='text/css'>\n",
       "<link href='http://fonts.googleapis.com/css?family=Alegreya+Sans:100,300,400,500,700,800,900,100italic,300italic,400italic,500italic,700italic,800italic,900italic' rel='stylesheet' type='text/css'>\n",
       "<link href='http://fonts.googleapis.com/css?family=Source+Code+Pro:300,400' rel='stylesheet' type='text/css'>\n",
       "<style>\n",
       "\n",
       "@font-face {\n",
       "    font-family: \"Computer Modern\";\n",
       "    src: url('http://mirrors.ctan.org/fonts/cm-unicode/fonts/otf/cmunss.otf');\n",
       "}\n",
       "\n",
       "\n",
       "#notebook_panel { /* main background */\n",
       "    background: rgb(245,245,245);\n",
       "}\n",
       "\n",
       "div.cell { /* set cell width */\n",
       "    width: 750px;\n",
       "}\n",
       "\n",
       "div #notebook { /* centre the content */\n",
       "    background: #fff; /* white background for content */\n",
       "    width: 1000px;\n",
       "    margin: auto;\n",
       "    padding-left: 0em;\n",
       "}\n",
       "\n",
       "#notebook li { /* More space between bullet points */\n",
       "margin-top:0.8em;\n",
       "}\n",
       "\n",
       "/* draw border around running cells */\n",
       "div.cell.border-box-sizing.code_cell.running { \n",
       "    border: 1px solid #111;\n",
       "}\n",
       "\n",
       "/* Put a solid color box around each cell and its output, visually linking them*/\n",
       "div.cell.code_cell {\n",
       "    background-color: rgb(256,256,256); \n",
       "    border-radius: 0px; \n",
       "    padding: 0.5em;\n",
       "    margin-left:1em;\n",
       "    margin-top: 1em;\n",
       "}\n",
       "\n",
       "\n",
       "div.text_cell_render{\n",
       "    font-family: 'Alegreya Sans' sans-serif;\n",
       "    line-height: 140%;\n",
       "    font-size: 125%;\n",
       "    font-weight: 400;\n",
       "    width:600px;\n",
       "    margin-left:auto;\n",
       "    margin-right:auto;\n",
       "}\n",
       "\n",
       "/* Formatting for header cells */\n",
       ".text_cell_render h1 {\n",
       "    font-family: 'Fenix', sans-serif;\n",
       "    font-style:regular;\n",
       "    font-weight: 200;    \n",
       "    font-size: 40pt;\n",
       "    line-height: 100%;\n",
       "    color: #138d75;\n",
       "    margin-bottom: 0.5em;\n",
       "    margin-top: 0.5em;\n",
       "    display: block;\n",
       "}\t\n",
       ".text_cell_render h2 {\n",
       "    font-family: 'Fenix', serif;\n",
       "    font-size: 20pt;\n",
       "    line-height: 100%;\n",
       "    margin-bottom: 0.1em;\n",
       "    color: #1f618d;\n",
       "    margin-top: 0.3em;\n",
       "    display: block;\n",
       "}\t\n",
       "\n",
       ".text_cell_render h3 {\n",
       "    font-family: 'Fenix', serif;\n",
       "    margin-top:12px;\n",
       "\tfont-size: 16pt;\n",
       "    margin-bottom: 3px;\n",
       "    font-style: regular;\n",
       "}\n",
       "\n",
       ".text_cell_render h4 {    /*Use this for captions*/\n",
       "    font-family: 'Fenix', serif;\n",
       "    font-size: 12pt;\n",
       "    text-align: center;\n",
       "    margin-top: 0em;\n",
       "    margin-bottom: 2em;\n",
       "    font-style: regular;\n",
       "}\n",
       "\n",
       ".text_cell_render h5 {  /*Use this for small titles*/\n",
       "    font-family: 'Alegreya Sans', sans-serif;\n",
       "    font-weight: 300;\n",
       "    font-size: 16pt;\n",
       "    color: #CD2305;\n",
       "    font-style: italic;\n",
       "    margin-bottom: .5em;\n",
       "    margin-top: 0.5em;\n",
       "    display: block;\n",
       "}\n",
       "\n",
       ".text_cell_render h6 { /*use this for copyright note*/\n",
       "    font-family: 'Source Code Pro', sans-serif;\n",
       "    font-weight: 300;\n",
       "    font-size: 9pt;\n",
       "    line-height: 100%;\n",
       "    color: grey;\n",
       "    margin-bottom: 1px;\n",
       "    margin-top: 1px;\n",
       "}\n",
       "\n",
       "    .CodeMirror{\n",
       "            font-family: \"Source Code Pro\";\n",
       "\t\t\tfont-size: 90%;\n",
       "    }\n",
       "/*    .prompt{\n",
       "        display: None;\n",
       "    }*/\n",
       "\t\n",
       "    \n",
       "    .warning{\n",
       "        color: rgb( 240, 20, 20 )\n",
       "        }  \n",
       "</style>\n",
       "<script>\n",
       "    MathJax.Hub.Config({\n",
       "                        TeX: {\n",
       "                           extensions: [\"AMSmath.js\"], \n",
       "                           equationNumbers: { autoNumber: \"AMS\", useLabelIds: true}\n",
       "                           },\n",
       "                tex2jax: {\n",
       "                    inlineMath: [ ['$','$'], [\"\\\\(\",\"\\\\)\"] ],\n",
       "                    displayMath: [ ['$$','$$'], [\"\\\\[\",\"\\\\]\"] ]\n",
       "                },\n",
       "                displayAlign: 'center', // Change this to 'center' to center equations.\n",
       "                \"HTML-CSS\": {\n",
       "                    styles: {'.MathJax_Display': {\"margin\": 4}}\n",
       "                }\n",
       "        });\n",
       "</script>\n"
      ],
      "text/plain": [
       "<IPython.core.display.HTML object>"
      ]
     },
     "execution_count": 1,
     "metadata": {},
     "output_type": "execute_result"
    }
   ],
   "source": [
    "#Ignore this cell, It simply loads a style for the notebook.\n",
    "\n",
    "from IPython.core.display import HTML\n",
    "def css_styling():\n",
    "    try:\n",
    "        styles = open(\"styles/custom.css\", \"r\").read()\n",
    "        return HTML(styles)\n",
    "    except:\n",
    "        pass\n",
    "css_styling()"
   ]
  }
 ],
 "metadata": {
  "kernelspec": {
   "display_name": "Python 3",
   "language": "python",
   "name": "python3"
  },
  "language_info": {
   "codemirror_mode": {
    "name": "ipython",
    "version": 3
   },
   "file_extension": ".py",
   "mimetype": "text/x-python",
   "name": "python",
   "nbconvert_exporter": "python",
   "pygments_lexer": "ipython3",
   "version": "3.5.3"
  }
 },
 "nbformat": 4,
 "nbformat_minor": 2
}
