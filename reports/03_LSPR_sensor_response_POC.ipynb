{
 "cells": [
  {
   "cell_type": "markdown",
   "metadata": {},
   "source": [
    "# LSPR sensor response calculation\n",
    "\n",
    "LSPR biosensors work by detecting a target molecule because the plasmon resonance frequency changes due to the proximity of the target to the metallic nanoparticle. We present a proof of concept calculation that shows how our approach can be used to model the response in LSPR biosensors. \n",
    "\n",
    "## Problem setup\n",
    "\n",
    "We place a $r = 10 nm$ silver sphere in water, sorrounded by six $r = 4 nm$  spherical proteins at a distance $d$ along the principal axis (x,y,z) \n"
   ]
  },
  {
   "cell_type": "code",
   "execution_count": null,
   "metadata": {
    "collapsed": true
   },
   "outputs": [],
   "source": [
    "#Ignore this cell, It simply loads a style for the notebook.\n",
    "\n",
    "from IPython.core.display import HTML\n",
    "def css_styling():\n",
    "    try:\n",
    "        styles = open(\"styles/custom.css\", \"r\").read()\n",
    "        return HTML(styles)\n",
    "    except:\n",
    "        pass\n",
    "css_styling()"
   ]
  }
 ],
 "metadata": {
  "kernelspec": {
   "display_name": "Python 3",
   "language": "python",
   "name": "python3"
  },
  "language_info": {
   "codemirror_mode": {
    "name": "ipython",
    "version": 3
   },
   "file_extension": ".py",
   "mimetype": "text/x-python",
   "name": "python",
   "nbconvert_exporter": "python",
   "pygments_lexer": "ipython3",
   "version": "3.5.2"
  }
 },
 "nbformat": 4,
 "nbformat_minor": 2
}
