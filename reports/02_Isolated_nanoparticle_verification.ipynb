{
 "cells": [
  {
   "cell_type": "markdown",
   "metadata": {},
   "source": [
    "# Results for an isolated nanoparticle\n",
    "\n",
    "We perform a verification process of our code by comparing our numerical caluclations of the extinction cross-section with analytical solutions, available for spherical geometries. \n",
    "\n",
    "For spherical geometries the solution for the extinction cross section provided by Mishenko (1), applies for all mediums. When the medium is a lossy medium, $k^\\prime$ is the real part of the complex wave number, otherwise $k$ is a real number and we take $k^\\prime=k$    "
   ]
  },
  {
   "cell_type": "markdown",
   "metadata": {},
   "source": [
    "##### References\n",
    "\n",
    "(1) Mishchenko, M. I. (2007). Electromagnetic scattering by a fixed finite object embedded in an absorbing medium. Opt. Express, 20(15):13188–13202."
   ]
  },
  {
   "cell_type": "code",
   "execution_count": null,
   "metadata": {
    "collapsed": true
   },
   "outputs": [],
   "source": [
    "#Ignore this cell, It simply loads a style for the notebook.\n",
    "\n",
    "from IPython.core.display import HTML\n",
    "def css_styling():\n",
    "    try:\n",
    "        styles = open(\"styles/custom.css\", \"r\").read()\n",
    "        return HTML(styles)\n",
    "    except:\n",
    "        pass\n",
    "css_styling()"
   ]
  }
 ],
 "metadata": {
  "kernelspec": {
   "display_name": "Python 3",
   "language": "python",
   "name": "python3"
  },
  "language_info": {
   "codemirror_mode": {
    "name": "ipython",
    "version": 3
   },
   "file_extension": ".py",
   "mimetype": "text/x-python",
   "name": "python",
   "nbconvert_exporter": "python",
   "pygments_lexer": "ipython3",
   "version": "3.5.2"
  }
 },
 "nbformat": 4,
 "nbformat_minor": 2
}
