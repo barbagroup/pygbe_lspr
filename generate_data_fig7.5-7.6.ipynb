{
 "cells": [
  {
   "cell_type": "markdown",
   "metadata": {},
   "source": [
    "## Generate the data to replicate fig 7.5 and 7.6 chris thesis.\n",
    "\n",
    "1. We import original data of refraction indices and their corresponding wavelengths in [nm].\n",
    "\n",
    "2. We interpolate the data linearly.\n",
    "\n",
    "3. We obtain the extrapolated data we need to replicate Fig. 7.5 and 7.6 from C.D. Cooper, and save the data.  "
   ]
  },
  {
   "cell_type": "code",
   "execution_count": 1,
   "metadata": {
    "collapsed": true
   },
   "outputs": [],
   "source": [
    "import numpy\n",
    "from data_analysis_helper import linear_interp"
   ]
  },
  {
   "cell_type": "markdown",
   "metadata": {},
   "source": [
    "### importing data"
   ]
  },
  {
   "cell_type": "code",
   "execution_count": 2,
   "metadata": {
    "collapsed": true
   },
   "outputs": [],
   "source": [
    "#silver\n",
    "lambda_s, n_s, k_s = numpy.loadtxt('gold_silver_water_raw-data/silver_JC72_nm.txt',\n",
    "                                   unpack = True)\n",
    "#gold\n",
    "lambda_g, n_g, k_g = numpy.loadtxt('gold_silver_water_raw-data/gold_JC72_nm.txt',\n",
    "                                   unpack = True)\n",
    "\n",
    "#water\n",
    "lambda_w, n_w, k_w = numpy.loadtxt('gold_silver_water_raw-data/water_HQ72.txt',\n",
    "                                   unpack = True)"
   ]
  },
  {
   "cell_type": "markdown",
   "metadata": {},
   "source": [
    "### Interpolate data"
   ]
  },
  {
   "cell_type": "code",
   "execution_count": 3,
   "metadata": {
    "collapsed": true
   },
   "outputs": [],
   "source": [
    "#Interpolated functions\n",
    "n_silver, k_silver = linear_interp(lambda_s, n_s, k_s)\n",
    "\n",
    "n_gold, k_gold = linear_interp(lambda_g, n_g, k_g)\n",
    "\n",
    "n_water, k_water = linear_interp(lambda_w, n_w, k_w)"
   ]
  },
  {
   "cell_type": "code",
   "execution_count": 4,
   "metadata": {
    "collapsed": true
   },
   "outputs": [],
   "source": [
    "#Data for figure 7.5 \n",
    "# Wavelength range = [350-420]nm \n",
    "\n",
    "lambda_75 = numpy.linspace(350, 420, (420-350)+1)\n",
    "#silver\n",
    "n_silver_75 = n_silver(lambda_75)\n",
    "k_silver_75 = k_silver(lambda_75)\n",
    "#water\n",
    "n_water_75 = n_water(lambda_75)\n",
    "k_water_75 = k_water(lambda_75)\n"
   ]
  },
  {
   "cell_type": "code",
   "execution_count": 5,
   "metadata": {
    "collapsed": false
   },
   "outputs": [],
   "source": [
    "numpy.savetxt('data/lambda_n_k_silver-7.5.txt', list(zip(lambda_75, n_silver_75, k_silver_75, n_water_75, k_water_75)),\n",
    "              fmt='%.1f %.18e %.18e %.18e %.18e',\n",
    "              header = 'lambda [nm], real_ref_silver, imag_ref_silver, real_ref_water, imag_ref_water,  (silver sphere - rep Fig 7.5 )')"
   ]
  },
  {
   "cell_type": "code",
   "execution_count": 6,
   "metadata": {
    "collapsed": true
   },
   "outputs": [],
   "source": [
    "#Data for figure 7.6 \n",
    "# Wavelength range = [460-560]nm \n",
    "\n",
    "lambda_76 = numpy.linspace(460, 560, (560-460)+1)\n",
    "\n",
    "#gold\n",
    "n_gold_76 = n_gold(lambda_76)\n",
    "k_gold_76 = k_gold(lambda_76)\n",
    "#water\n",
    "n_water_76 = n_water(lambda_76)\n",
    "k_water_76 = k_water(lambda_76)"
   ]
  },
  {
   "cell_type": "code",
   "execution_count": 7,
   "metadata": {
    "collapsed": true
   },
   "outputs": [],
   "source": [
    "numpy.savetxt('data/lambda_n_k_gold-7.6.txt', list(zip(lambda_76, n_gold_76, k_gold_76, n_water_76, k_water_76)),\n",
    "              fmt='%.1f %.18e %.18e %.18e %.18e',\n",
    "              header = 'lambda [nm], real_ref_gold, imag_ref_gold, real_ref_water, imag_ref_water,  (gold sphere - rep Fig 7.6 )')"
   ]
  }
 ],
 "metadata": {
  "kernelspec": {
   "display_name": "Python 3",
   "language": "python",
   "name": "python3"
  },
  "language_info": {
   "codemirror_mode": {
    "name": "ipython",
    "version": 3
   },
   "file_extension": ".py",
   "mimetype": "text/x-python",
   "name": "python",
   "nbconvert_exporter": "python",
   "pygments_lexer": "ipython3",
   "version": "3.5.2"
  }
 },
 "nbformat": 4,
 "nbformat_minor": 2
}
